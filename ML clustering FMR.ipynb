{
 "cells": [
  {
   "cell_type": "code",
   "execution_count": 11,
   "metadata": {},
   "outputs": [
    {
     "name": "stdout",
     "output_type": "stream",
     "text": [
      "hello\n"
     ]
    }
   ],
   "source": [
    "print('hello')"
   ]
  },
  {
   "cell_type": "code",
   "execution_count": 12,
   "metadata": {},
   "outputs": [],
   "source": [
    "import pandas as pd\n",
    "import datetime as dt\n",
    "import seaborn as sns\n",
    "import pandas as pd\n",
    "import matplotlib.pyplot as plt\n",
    "from sklearn.cluster import KMeans\n",
    "from sklearn.preprocessing import StandardScaler\n",
    "from sklearn.metrics import silhouette_score\n",
    "import plotly.express as px\n"
   ]
  },
  {
   "cell_type": "code",
   "execution_count": 13,
   "metadata": {},
   "outputs": [
    {
     "name": "stdout",
     "output_type": "stream",
     "text": [
      "{'encoding': 'Windows-1252', 'confidence': 0.73, 'language': ''}\n"
     ]
    }
   ],
   "source": [
    "import chardet\n",
    "\n",
    "# look at the first 100k bytes to guess the character encoding\n",
    "with open(\"Sample-Superstore.csv\", 'rb') as rawdata:\n",
    "    result = chardet.detect(rawdata.read(100000))\n",
    "\n",
    "# check what the character encoding might be\n",
    "print(result)"
   ]
  },
  {
   "cell_type": "code",
   "execution_count": 14,
   "metadata": {},
   "outputs": [],
   "source": [
    "superstore = pd.read_csv('Sample-Superstore.csv', encoding='latin1')"
   ]
  },
  {
   "cell_type": "code",
   "execution_count": 15,
   "metadata": {},
   "outputs": [
    {
     "name": "stdout",
     "output_type": "stream",
     "text": [
      "   Row ID        Order ID  Order Date   Ship Date       Ship Mode Customer ID  \\\n",
      "0       1  CA-2016-152156   11/8/2016  11/11/2016    Second Class    CG-12520   \n",
      "1       2  CA-2016-152156   11/8/2016  11/11/2016    Second Class    CG-12520   \n",
      "2       3  CA-2016-138688   6/12/2016   6/16/2016    Second Class    DV-13045   \n",
      "3       4  US-2015-108966  10/11/2015  10/18/2015  Standard Class    SO-20335   \n",
      "4       5  US-2015-108966  10/11/2015  10/18/2015  Standard Class    SO-20335   \n",
      "\n",
      "     Customer Name    Segment        Country             City  ...  \\\n",
      "0      Claire Gute   Consumer  United States        Henderson  ...   \n",
      "1      Claire Gute   Consumer  United States        Henderson  ...   \n",
      "2  Darrin Van Huff  Corporate  United States      Los Angeles  ...   \n",
      "3   Sean O'Donnell   Consumer  United States  Fort Lauderdale  ...   \n",
      "4   Sean O'Donnell   Consumer  United States  Fort Lauderdale  ...   \n",
      "\n",
      "  Postal Code  Region       Product ID         Category Sub-Category  \\\n",
      "0       42420   South  FUR-BO-10001798        Furniture    Bookcases   \n",
      "1       42420   South  FUR-CH-10000454        Furniture       Chairs   \n",
      "2       90036    West  OFF-LA-10000240  Office Supplies       Labels   \n",
      "3       33311   South  FUR-TA-10000577        Furniture       Tables   \n",
      "4       33311   South  OFF-ST-10000760  Office Supplies      Storage   \n",
      "\n",
      "                                        Product Name     Sales  Quantity  \\\n",
      "0                  Bush Somerset Collection Bookcase  261.9600         2   \n",
      "1  Hon Deluxe Fabric Upholstered Stacking Chairs,...  731.9400         3   \n",
      "2  Self-Adhesive Address Labels for Typewriters b...   14.6200         2   \n",
      "3      Bretford CR4500 Series Slim Rectangular Table  957.5775         5   \n",
      "4                     Eldon Fold 'N Roll Cart System   22.3680         2   \n",
      "\n",
      "   Discount    Profit  \n",
      "0      0.00   41.9136  \n",
      "1      0.00  219.5820  \n",
      "2      0.00    6.8714  \n",
      "3      0.45 -383.0310  \n",
      "4      0.20    2.5164  \n",
      "\n",
      "[5 rows x 21 columns]\n",
      "<class 'pandas.core.frame.DataFrame'>\n",
      "RangeIndex: 9994 entries, 0 to 9993\n",
      "Data columns (total 21 columns):\n",
      " #   Column         Non-Null Count  Dtype  \n",
      "---  ------         --------------  -----  \n",
      " 0   Row ID         9994 non-null   int64  \n",
      " 1   Order ID       9994 non-null   object \n",
      " 2   Order Date     9994 non-null   object \n",
      " 3   Ship Date      9994 non-null   object \n",
      " 4   Ship Mode      9994 non-null   object \n",
      " 5   Customer ID    9994 non-null   object \n",
      " 6   Customer Name  9994 non-null   object \n",
      " 7   Segment        9994 non-null   object \n",
      " 8   Country        9994 non-null   object \n",
      " 9   City           9994 non-null   object \n",
      " 10  State          9994 non-null   object \n",
      " 11  Postal Code    9994 non-null   int64  \n",
      " 12  Region         9994 non-null   object \n",
      " 13  Product ID     9994 non-null   object \n",
      " 14  Category       9994 non-null   object \n",
      " 15  Sub-Category   9994 non-null   object \n",
      " 16  Product Name   9994 non-null   object \n",
      " 17  Sales          9994 non-null   float64\n",
      " 18  Quantity       9994 non-null   int64  \n",
      " 19  Discount       9994 non-null   float64\n",
      " 20  Profit         9994 non-null   float64\n",
      "dtypes: float64(3), int64(3), object(15)\n",
      "memory usage: 1.6+ MB\n",
      "None\n"
     ]
    }
   ],
   "source": [
    "# Inspect the dataset\n",
    "print(superstore.head())\n",
    "print(superstore.info())"
   ]
  },
  {
   "cell_type": "code",
   "execution_count": 16,
   "metadata": {},
   "outputs": [
    {
     "name": "stdout",
     "output_type": "stream",
     "text": [
      "Number of duplicate rows: 0\n"
     ]
    }
   ],
   "source": [
    "# Check for duplicate rows\n",
    "duplicate_rows = superstore.duplicated()\n",
    "print(f\"Number of duplicate rows: {duplicate_rows.sum()}\")\n",
    "\n",
    "# Optionally, display the duplicate rows\n",
    "if duplicate_rows.sum() > 0:\n",
    "    print(superstore[duplicate_rows])"
   ]
  },
  {
   "cell_type": "markdown",
   "metadata": {},
   "source": [
    "# Calculate Recency, Frequency and Monetary columns"
   ]
  },
  {
   "cell_type": "code",
   "execution_count": 17,
   "metadata": {},
   "outputs": [],
   "source": [
    "# Convert Order Date to datetime\n",
    "superstore['Order Date'] = pd.to_datetime(superstore['Order Date'])"
   ]
  },
  {
   "cell_type": "code",
   "execution_count": 18,
   "metadata": {},
   "outputs": [],
   "source": [
    "# Define the reference date as the day after the last order date\n",
    "reference_date = superstore['Order Date'].max() + dt.timedelta(days=1)"
   ]
  },
  {
   "cell_type": "code",
   "execution_count": 19,
   "metadata": {},
   "outputs": [],
   "source": [
    "# Create RFM table\n",
    "rfm_table = superstore.groupby('Customer ID').agg({\n",
    "    'Order Date': lambda x: (reference_date - x.max()).days,\n",
    "    'Order ID': 'count',\n",
    "    'Sales': 'sum'\n",
    "}).reset_index()"
   ]
  },
  {
   "cell_type": "code",
   "execution_count": 20,
   "metadata": {},
   "outputs": [],
   "source": [
    "# Rename columns\n",
    "rfm_table.columns = ['Customer ID', 'Recency', 'Frequency', 'Monetary']"
   ]
  },
  {
   "cell_type": "code",
   "execution_count": 21,
   "metadata": {},
   "outputs": [
    {
     "name": "stdout",
     "output_type": "stream",
     "text": [
      "  Customer ID  Recency  Frequency  Monetary\n",
      "0    AA-10315      185         11  5563.560\n",
      "1    AA-10375       20         15  1056.390\n",
      "2    AA-10480      260         12  1790.512\n",
      "3    AA-10645       56         18  5086.935\n",
      "4    AB-10015      416          6   886.156\n"
     ]
    }
   ],
   "source": [
    "\n",
    "# Inspect RFM table\n",
    "print(rfm_table.head())"
   ]
  },
  {
   "cell_type": "markdown",
   "metadata": {},
   "source": [
    "## Checking for Outliers"
   ]
  },
  {
   "cell_type": "code",
   "execution_count": 22,
   "metadata": {},
   "outputs": [],
   "source": [
    "# Function to detect outliers using IQR\n",
    "def detect_outliers(df, column):\n",
    "    Q1 = df[column].quantile(0.25)\n",
    "    Q3 = df[column].quantile(0.75)\n",
    "    IQR = Q3 - Q1\n",
    "    lower_bound = Q1 - 1.5 * IQR\n",
    "    upper_bound = Q3 + 1.5 * IQR\n",
    "    outliers = df[(df[column] < lower_bound) | (df[column] > upper_bound)]\n",
    "    return outliers"
   ]
  },
  {
   "cell_type": "code",
   "execution_count": 23,
   "metadata": {},
   "outputs": [],
   "source": [
    "# Detect outliers in each RFM metric\n",
    "recency_outliers = detect_outliers(rfm_table, 'Recency')\n",
    "frequency_outliers = detect_outliers(rfm_table, 'Frequency')\n",
    "monetary_outliers = detect_outliers(rfm_table, 'Monetary')"
   ]
  },
  {
   "cell_type": "code",
   "execution_count": 24,
   "metadata": {},
   "outputs": [
    {
     "name": "stdout",
     "output_type": "stream",
     "text": [
      "Recency Outliers:\n",
      "    Customer ID  Recency  Frequency  Monetary\n",
      "4      AB-10015      416          6   886.156\n",
      "17     AF-10885      416          7   861.565\n",
      "23     AG-10525      846          9  1455.038\n",
      "42     AO-10810      502          1   161.280\n",
      "49     AR-10570      535          2    88.150\n",
      "..          ...      ...        ...       ...\n",
      "728    SW-20755      535          8   758.696\n",
      "735    TB-21280      584         11  2198.450\n",
      "761    TS-21160      505         17  2163.624\n",
      "776    VD-21670      582         16  6442.254\n",
      "785    VT-21700     1001          9  1736.596\n",
      "\n",
      "[74 rows x 4 columns]\n",
      "Frequency Outliers:\n",
      "    Customer ID  Recency  Frequency    Monetary\n",
      "44     AP-10915       99         31   3323.5560\n",
      "92     BM-11650       34         29   7294.1850\n",
      "147    CK-12205       40         32   3154.8550\n",
      "244    Dp-13240       85         29   7198.7610\n",
      "257    EH-13765      136         32  10310.8800\n",
      "275    EP-13915       13         31   5478.0608\n",
      "311    GT-14710       37         29  11820.1200\n",
      "349    JD-15895      395         32   7610.8640\n",
      "387    JL-15835       22         34   9799.9230\n",
      "434    KL-16645       48         29  14175.2290\n",
      "450    LC-16870       28         30   2580.7040\n",
      "482    MA-17560       65         34   4299.1610\n",
      "606    PP-18955       98         34   7252.6080\n",
      "691    SH-19975       30         29   3406.8395\n",
      "720    SV-20365      102         32  11470.9500\n",
      "787    WB-21850       21         37   6160.1020\n",
      "791    ZC-21910       55         31   8025.7070\n",
      "Monetary Outliers:\n",
      "    Customer ID  Recency  Frequency    Monetary\n",
      "5      AB-10060       55         18   7755.6200\n",
      "6      AB-10105       42         20  14473.5710\n",
      "34     AH-10690      411         23   7888.2940\n",
      "90     BM-11140      308         16  11789.6300\n",
      "104    BS-11365      559          9  10501.6530\n",
      "131    CC-12370       44         11  12129.0720\n",
      "146    CJ-12010      190         20  11164.9740\n",
      "152    CL-12565      285         28  10880.5460\n",
      "160    CM-12385       38         10   8954.0200\n",
      "234    DR-12940       51         13   8350.8680\n",
      "257    EH-13765      136         32  10310.8800\n",
      "310    GT-14635       57          6   9351.2120\n",
      "311    GT-14710       37         29  11820.1200\n",
      "327    HL-15040       44         11  12873.2980\n",
      "328    HM-14860        3         20   8236.7648\n",
      "333    HW-14935      118         20   9300.2540\n",
      "352    JD-16150       42         17   8828.0305\n",
      "354    JE-15610       49         20   7754.9760\n",
      "355    JE-15715       47         22   8697.8430\n",
      "371    JH-15985       30         14   7954.9980\n",
      "387    JL-15835       22         34   9799.9230\n",
      "422    KD-16270      485         16   8282.3580\n",
      "424    KD-16495      113         28   8181.2560\n",
      "427    KF-16285       98         18  10604.2660\n",
      "434    KL-16645       48         29  14175.2290\n",
      "447    LA-16780      155         26   8673.2220\n",
      "497    ME-17320       43         22  10663.7280\n",
      "556    NC-18535        7         15   8241.7390\n",
      "560    NF-18385       80         14   8322.8260\n",
      "573    NP-18700      139         13   7903.1825\n",
      "588    PF-19120      836         19   9062.8640\n",
      "597    PK-19075       10         25   8646.9340\n",
      "621    RB-19360       97         18  15117.3390\n",
      "666    SB-20290       48         17   8057.8910\n",
      "669    SC-20095      350         22  14142.3340\n",
      "683    SE-20110       10         19  12209.4380\n",
      "700    SM-20320       80         15  25043.0500\n",
      "720    SV-20365      102         32  11470.9500\n",
      "730    TA-21385       70         10  14595.6200\n",
      "737    TB-21400      203         17   9133.9900\n",
      "741    TC-20980      400         12  19052.2180\n",
      "764    TS-21370       37         15  11891.7510\n",
      "791    ZC-21910       55         31   8025.7070\n"
     ]
    }
   ],
   "source": [
    "# Print outliers\n",
    "print(f\"Recency Outliers:\\n{recency_outliers}\")\n",
    "print(f\"Frequency Outliers:\\n{frequency_outliers}\")\n",
    "print(f\"Monetary Outliers:\\n{monetary_outliers}\")"
   ]
  },
  {
   "cell_type": "code",
   "execution_count": 25,
   "metadata": {},
   "outputs": [],
   "source": [
    "# Remove outliers\n",
    "rfm_table_no_outliers = rfm_table[~rfm_table['Customer ID'].isin(recency_outliers['Customer ID'])]\n",
    "rfm_table_no_outliers = rfm_table_no_outliers[~rfm_table_no_outliers['Customer ID'].isin(frequency_outliers['Customer ID'])]\n",
    "rfm_table_no_outliers = rfm_table_no_outliers[~rfm_table_no_outliers['Customer ID'].isin(monetary_outliers['Customer ID'])]\n"
   ]
  },
  {
   "cell_type": "code",
   "execution_count": 26,
   "metadata": {},
   "outputs": [
    {
     "data": {
      "text/html": [
       "<div>\n",
       "<style scoped>\n",
       "    .dataframe tbody tr th:only-of-type {\n",
       "        vertical-align: middle;\n",
       "    }\n",
       "\n",
       "    .dataframe tbody tr th {\n",
       "        vertical-align: top;\n",
       "    }\n",
       "\n",
       "    .dataframe thead th {\n",
       "        text-align: right;\n",
       "    }\n",
       "</style>\n",
       "<table border=\"1\" class=\"dataframe\">\n",
       "  <thead>\n",
       "    <tr style=\"text-align: right;\">\n",
       "      <th></th>\n",
       "      <th>Customer ID</th>\n",
       "      <th>Recency</th>\n",
       "      <th>Frequency</th>\n",
       "      <th>Monetary</th>\n",
       "    </tr>\n",
       "  </thead>\n",
       "  <tbody>\n",
       "    <tr>\n",
       "      <th>0</th>\n",
       "      <td>AA-10315</td>\n",
       "      <td>185</td>\n",
       "      <td>11</td>\n",
       "      <td>5563.560</td>\n",
       "    </tr>\n",
       "    <tr>\n",
       "      <th>1</th>\n",
       "      <td>AA-10375</td>\n",
       "      <td>20</td>\n",
       "      <td>15</td>\n",
       "      <td>1056.390</td>\n",
       "    </tr>\n",
       "    <tr>\n",
       "      <th>2</th>\n",
       "      <td>AA-10480</td>\n",
       "      <td>260</td>\n",
       "      <td>12</td>\n",
       "      <td>1790.512</td>\n",
       "    </tr>\n",
       "  </tbody>\n",
       "</table>\n",
       "</div>"
      ],
      "text/plain": [
       "  Customer ID  Recency  Frequency  Monetary\n",
       "0    AA-10315      185         11  5563.560\n",
       "1    AA-10375       20         15  1056.390\n",
       "2    AA-10480      260         12  1790.512"
      ]
     },
     "execution_count": 26,
     "metadata": {},
     "output_type": "execute_result"
    }
   ],
   "source": [
    "rfm_table_no_outliers.head(3)"
   ]
  },
  {
   "cell_type": "code",
   "execution_count": 27,
   "metadata": {},
   "outputs": [
    {
     "data": {
      "text/plain": [
       "(668, 4)"
      ]
     },
     "execution_count": 27,
     "metadata": {},
     "output_type": "execute_result"
    }
   ],
   "source": [
    "rfm_table_no_outliers.shape"
   ]
  },
  {
   "cell_type": "markdown",
   "metadata": {},
   "source": [
    "## Scaling"
   ]
  },
  {
   "cell_type": "code",
   "execution_count": 28,
   "metadata": {},
   "outputs": [],
   "source": [
    "# Normalize RFM values\n",
    "scaler = StandardScaler()\n",
    "rfm_normalized = scaler.fit_transform(rfm_table_no_outliers[['Recency', 'Frequency', 'Monetary']])\n"
   ]
  },
  {
   "cell_type": "code",
   "execution_count": 29,
   "metadata": {},
   "outputs": [
    {
     "name": "stdout",
     "output_type": "stream",
     "text": [
      "[[ 0.87601203 -0.26167684  1.81572328]\n",
      " [-0.81270431  0.47200681 -0.86355737]\n",
      " [ 1.64361036 -0.07825593 -0.42715961]\n",
      " ...\n",
      " [-0.96622398 -0.81193958  1.75080356]\n",
      " [-0.91505076 -0.07825593  2.50343129]\n",
      " [ 1.06023563 -0.62851866 -0.60345403]]\n"
     ]
    }
   ],
   "source": [
    "print(rfm_normalized)"
   ]
  },
  {
   "cell_type": "markdown",
   "metadata": {},
   "source": [
    "# The Model"
   ]
  },
  {
   "cell_type": "markdown",
   "metadata": {},
   "source": [
    "## Determin the optimal number of clusters using the elbow method"
   ]
  },
  {
   "cell_type": "code",
   "execution_count": 30,
   "metadata": {},
   "outputs": [],
   "source": [
    "from sklearn.metrics import silhouette_score"
   ]
  },
  {
   "cell_type": "code",
   "execution_count": 31,
   "metadata": {},
   "outputs": [
    {
     "name": "stderr",
     "output_type": "stream",
     "text": [
      "c:\\Users\\gabb_\\anaconda3\\Lib\\site-packages\\sklearn\\cluster\\_kmeans.py:1412: FutureWarning: The default value of `n_init` will change from 10 to 'auto' in 1.4. Set the value of `n_init` explicitly to suppress the warning\n",
      "  super()._check_params_vs_input(X, default_n_init=10)\n",
      "c:\\Users\\gabb_\\anaconda3\\Lib\\site-packages\\sklearn\\cluster\\_kmeans.py:1436: UserWarning: KMeans is known to have a memory leak on Windows with MKL, when there are less chunks than available threads. You can avoid it by setting the environment variable OMP_NUM_THREADS=3.\n",
      "  warnings.warn(\n"
     ]
    },
    {
     "name": "stdout",
     "output_type": "stream",
     "text": [
      "For n_clusters = 2, the average silhouette_score is : 0.34005137139841324\n"
     ]
    },
    {
     "name": "stderr",
     "output_type": "stream",
     "text": [
      "c:\\Users\\gabb_\\anaconda3\\Lib\\site-packages\\sklearn\\cluster\\_kmeans.py:1412: FutureWarning: The default value of `n_init` will change from 10 to 'auto' in 1.4. Set the value of `n_init` explicitly to suppress the warning\n",
      "  super()._check_params_vs_input(X, default_n_init=10)\n",
      "c:\\Users\\gabb_\\anaconda3\\Lib\\site-packages\\sklearn\\cluster\\_kmeans.py:1436: UserWarning: KMeans is known to have a memory leak on Windows with MKL, when there are less chunks than available threads. You can avoid it by setting the environment variable OMP_NUM_THREADS=3.\n",
      "  warnings.warn(\n"
     ]
    },
    {
     "name": "stdout",
     "output_type": "stream",
     "text": [
      "For n_clusters = 3, the average silhouette_score is : 0.3636009893886577\n"
     ]
    },
    {
     "name": "stderr",
     "output_type": "stream",
     "text": [
      "c:\\Users\\gabb_\\anaconda3\\Lib\\site-packages\\sklearn\\cluster\\_kmeans.py:1412: FutureWarning: The default value of `n_init` will change from 10 to 'auto' in 1.4. Set the value of `n_init` explicitly to suppress the warning\n",
      "  super()._check_params_vs_input(X, default_n_init=10)\n",
      "c:\\Users\\gabb_\\anaconda3\\Lib\\site-packages\\sklearn\\cluster\\_kmeans.py:1436: UserWarning: KMeans is known to have a memory leak on Windows with MKL, when there are less chunks than available threads. You can avoid it by setting the environment variable OMP_NUM_THREADS=3.\n",
      "  warnings.warn(\n"
     ]
    },
    {
     "name": "stdout",
     "output_type": "stream",
     "text": [
      "For n_clusters = 4, the average silhouette_score is : 0.31752988413728256\n"
     ]
    },
    {
     "name": "stderr",
     "output_type": "stream",
     "text": [
      "c:\\Users\\gabb_\\anaconda3\\Lib\\site-packages\\sklearn\\cluster\\_kmeans.py:1412: FutureWarning: The default value of `n_init` will change from 10 to 'auto' in 1.4. Set the value of `n_init` explicitly to suppress the warning\n",
      "  super()._check_params_vs_input(X, default_n_init=10)\n",
      "c:\\Users\\gabb_\\anaconda3\\Lib\\site-packages\\sklearn\\cluster\\_kmeans.py:1436: UserWarning: KMeans is known to have a memory leak on Windows with MKL, when there are less chunks than available threads. You can avoid it by setting the environment variable OMP_NUM_THREADS=3.\n",
      "  warnings.warn(\n"
     ]
    },
    {
     "name": "stdout",
     "output_type": "stream",
     "text": [
      "For n_clusters = 5, the average silhouette_score is : 0.33063009448862174\n"
     ]
    },
    {
     "name": "stderr",
     "output_type": "stream",
     "text": [
      "c:\\Users\\gabb_\\anaconda3\\Lib\\site-packages\\sklearn\\cluster\\_kmeans.py:1412: FutureWarning: The default value of `n_init` will change from 10 to 'auto' in 1.4. Set the value of `n_init` explicitly to suppress the warning\n",
      "  super()._check_params_vs_input(X, default_n_init=10)\n",
      "c:\\Users\\gabb_\\anaconda3\\Lib\\site-packages\\sklearn\\cluster\\_kmeans.py:1436: UserWarning: KMeans is known to have a memory leak on Windows with MKL, when there are less chunks than available threads. You can avoid it by setting the environment variable OMP_NUM_THREADS=3.\n",
      "  warnings.warn(\n"
     ]
    },
    {
     "name": "stdout",
     "output_type": "stream",
     "text": [
      "For n_clusters = 6, the average silhouette_score is : 0.2777403434068756\n"
     ]
    },
    {
     "name": "stderr",
     "output_type": "stream",
     "text": [
      "c:\\Users\\gabb_\\anaconda3\\Lib\\site-packages\\sklearn\\cluster\\_kmeans.py:1412: FutureWarning: The default value of `n_init` will change from 10 to 'auto' in 1.4. Set the value of `n_init` explicitly to suppress the warning\n",
      "  super()._check_params_vs_input(X, default_n_init=10)\n",
      "c:\\Users\\gabb_\\anaconda3\\Lib\\site-packages\\sklearn\\cluster\\_kmeans.py:1436: UserWarning: KMeans is known to have a memory leak on Windows with MKL, when there are less chunks than available threads. You can avoid it by setting the environment variable OMP_NUM_THREADS=3.\n",
      "  warnings.warn(\n"
     ]
    },
    {
     "name": "stdout",
     "output_type": "stream",
     "text": [
      "For n_clusters = 7, the average silhouette_score is : 0.2754018160843697\n"
     ]
    },
    {
     "name": "stderr",
     "output_type": "stream",
     "text": [
      "c:\\Users\\gabb_\\anaconda3\\Lib\\site-packages\\sklearn\\cluster\\_kmeans.py:1412: FutureWarning: The default value of `n_init` will change from 10 to 'auto' in 1.4. Set the value of `n_init` explicitly to suppress the warning\n",
      "  super()._check_params_vs_input(X, default_n_init=10)\n",
      "c:\\Users\\gabb_\\anaconda3\\Lib\\site-packages\\sklearn\\cluster\\_kmeans.py:1436: UserWarning: KMeans is known to have a memory leak on Windows with MKL, when there are less chunks than available threads. You can avoid it by setting the environment variable OMP_NUM_THREADS=3.\n",
      "  warnings.warn(\n"
     ]
    },
    {
     "name": "stdout",
     "output_type": "stream",
     "text": [
      "For n_clusters = 8, the average silhouette_score is : 0.28103657973130614\n"
     ]
    },
    {
     "name": "stderr",
     "output_type": "stream",
     "text": [
      "c:\\Users\\gabb_\\anaconda3\\Lib\\site-packages\\sklearn\\cluster\\_kmeans.py:1412: FutureWarning: The default value of `n_init` will change from 10 to 'auto' in 1.4. Set the value of `n_init` explicitly to suppress the warning\n",
      "  super()._check_params_vs_input(X, default_n_init=10)\n",
      "c:\\Users\\gabb_\\anaconda3\\Lib\\site-packages\\sklearn\\cluster\\_kmeans.py:1436: UserWarning: KMeans is known to have a memory leak on Windows with MKL, when there are less chunks than available threads. You can avoid it by setting the environment variable OMP_NUM_THREADS=3.\n",
      "  warnings.warn(\n"
     ]
    },
    {
     "name": "stdout",
     "output_type": "stream",
     "text": [
      "For n_clusters = 9, the average silhouette_score is : 0.27579763430943033\n"
     ]
    },
    {
     "name": "stderr",
     "output_type": "stream",
     "text": [
      "c:\\Users\\gabb_\\anaconda3\\Lib\\site-packages\\sklearn\\cluster\\_kmeans.py:1412: FutureWarning: The default value of `n_init` will change from 10 to 'auto' in 1.4. Set the value of `n_init` explicitly to suppress the warning\n",
      "  super()._check_params_vs_input(X, default_n_init=10)\n",
      "c:\\Users\\gabb_\\anaconda3\\Lib\\site-packages\\sklearn\\cluster\\_kmeans.py:1436: UserWarning: KMeans is known to have a memory leak on Windows with MKL, when there are less chunks than available threads. You can avoid it by setting the environment variable OMP_NUM_THREADS=3.\n",
      "  warnings.warn(\n"
     ]
    },
    {
     "name": "stdout",
     "output_type": "stream",
     "text": [
      "For n_clusters = 10, the average silhouette_score is : 0.27276535574193206\n"
     ]
    },
    {
     "data": {
      "image/png": "[encoded data removed]",
      "text/plain": [
       "<Figure size 1500x600 with 2 Axes>"
      ]
     },
     "metadata": {},
     "output_type": "display_data"
    }
   ],
   "source": [
    "# Determine the optimal number of clusters using the elbow method and silhouette score\n",
    "sse = {}\n",
    "silhouette_scores = []\n",
    "range_n_clusters = list(range(2, 11))\n",
    "\n",
    "for k in range_n_clusters:\n",
    "    kmeans = KMeans(n_clusters=k, random_state=42)\n",
    "    kmeans.fit(rfm_normalized)\n",
    "    sse[k] = kmeans.inertia_\n",
    "    silhouette_avg = silhouette_score(rfm_normalized, kmeans.labels_)\n",
    "    silhouette_scores.append(silhouette_avg)\n",
    "    print(f\"For n_clusters = {k}, the average silhouette_score is : {silhouette_avg}\")\n",
    "\n",
    "# Plot the elbow curve and silhouette scores\n",
    "fig, (ax1, ax2) = plt.subplots(1, 2, figsize=(15, 6))\n",
    "\n",
    "# Elbow Method\n",
    "ax1.plot(list(sse.keys()), list(sse.values()), 'bo-')\n",
    "ax1.set_xlabel('Number of Clusters')\n",
    "ax1.set_ylabel('Sum of Squared Errors (SSE)')\n",
    "ax1.set_title('Elbow Method For Optimal Number of Clusters')\n",
    "\n",
    "# Silhouette Scores\n",
    "ax2.plot(range_n_clusters, silhouette_scores, 'bo-')\n",
    "ax2.set_xlabel('Number of Clusters')\n",
    "ax2.set_ylabel('Silhouette Score')\n",
    "ax2.set_title('Silhouette Scores For Optimal Number of Clusters')\n",
    "\n",
    "plt.show()"
   ]
  },
  {
   "cell_type": "code",
   "execution_count": 32,
   "metadata": {},
   "outputs": [],
   "source": [
    "# we determine that 3 is the best choice"
   ]
  },
  {
   "cell_type": "code",
   "execution_count": 33,
   "metadata": {},
   "outputs": [],
   "source": [
    "k_optimal=3"
   ]
  },
  {
   "cell_type": "markdown",
   "metadata": {},
   "source": [
    "## Fit the model"
   ]
  },
  {
   "cell_type": "code",
   "execution_count": 34,
   "metadata": {},
   "outputs": [],
   "source": [
    "kmeans = KMeans(n_clusters=k_optimal, random_state=42)"
   ]
  },
  {
   "cell_type": "code",
   "execution_count": 35,
   "metadata": {},
   "outputs": [
    {
     "name": "stderr",
     "output_type": "stream",
     "text": [
      "c:\\Users\\gabb_\\anaconda3\\Lib\\site-packages\\sklearn\\cluster\\_kmeans.py:1412: FutureWarning: The default value of `n_init` will change from 10 to 'auto' in 1.4. Set the value of `n_init` explicitly to suppress the warning\n",
      "  super()._check_params_vs_input(X, default_n_init=10)\n",
      "c:\\Users\\gabb_\\anaconda3\\Lib\\site-packages\\sklearn\\cluster\\_kmeans.py:1436: UserWarning: KMeans is known to have a memory leak on Windows with MKL, when there are less chunks than available threads. You can avoid it by setting the environment variable OMP_NUM_THREADS=3.\n",
      "  warnings.warn(\n"
     ]
    }
   ],
   "source": [
    "rfm_table_no_outliers['Cluster'] = kmeans.fit_predict(rfm_normalized)"
   ]
  },
  {
   "cell_type": "code",
   "execution_count": 36,
   "metadata": {},
   "outputs": [
    {
     "data": {
      "text/plain": [
       "<Axes: xlabel='Cluster', ylabel='Monetary'>"
      ]
     },
     "execution_count": 36,
     "metadata": {},
     "output_type": "execute_result"
    },
    {
     "data": {
      "image/png": "[encoded data removed]",
      "text/plain": [
       "<Figure size 640x480 with 1 Axes>"
      ]
     },
     "metadata": {},
     "output_type": "display_data"
    }
   ],
   "source": [
    "# Box plot to visualize Cluster Id vs Amount\n",
    "sns.boxplot(x='Cluster', y='Monetary', data=rfm_table_no_outliers)"
   ]
  },
  {
   "cell_type": "code",
   "execution_count": 37,
   "metadata": {},
   "outputs": [
    {
     "data": {
      "text/plain": [
       "<Axes: xlabel='Cluster', ylabel='Frequency'>"
      ]
     },
     "execution_count": 37,
     "metadata": {},
     "output_type": "execute_result"
    },
    {
     "data": {
      "image/png": "[encoded data removed]",
      "text/plain": [
       "<Figure size 640x480 with 1 Axes>"
      ]
     },
     "metadata": {},
     "output_type": "display_data"
    }
   ],
   "source": [
    "\n",
    "# Box plot to visualize Cluster Id vs Frequency\n",
    "sns.boxplot(x='Cluster', y='Frequency', data=rfm_table_no_outliers)"
   ]
  },
  {
   "cell_type": "code",
   "execution_count": 38,
   "metadata": {},
   "outputs": [
    {
     "data": {
      "text/plain": [
       "<Axes: xlabel='Cluster', ylabel='Recency'>"
      ]
     },
     "execution_count": 38,
     "metadata": {},
     "output_type": "execute_result"
    },
    {
     "data": {
      "image/png": "[encoded data removed]",
      "text/plain": [
       "<Figure size 640x480 with 1 Axes>"
      ]
     },
     "metadata": {},
     "output_type": "display_data"
    }
   ],
   "source": [
    "# Box plot to visualize Cluster Id vs Recency\n",
    "sns.boxplot(x='Cluster', y='Recency', data=rfm_table_no_outliers)"
   ]
  },
  {
   "cell_type": "code",
   "execution_count": 39,
   "metadata": {},
   "outputs": [],
   "source": [
    "rfm_table_no_outliers.head(3)\n",
    "rfm_analysis=rfm_table_no_outliers[['Frequency', 'Recency', 'Cluster', 'Monetary']]"
   ]
  },
  {
   "cell_type": "markdown",
   "metadata": {},
   "source": [
    "## Analyse the clusters"
   ]
  },
  {
   "cell_type": "code",
   "execution_count": 40,
   "metadata": {},
   "outputs": [
    {
     "name": "stdout",
     "output_type": "stream",
     "text": [
      "   Cluster  Frequency     Recency     Monetary\n",
      "0        0   9.735294  287.774510  1619.724369\n",
      "1        1   9.365079   65.431746  1537.869428\n",
      "2        2  17.362550   65.498008  4089.376794\n"
     ]
    }
   ],
   "source": [
    "cluster_analysis = rfm_analysis.groupby('Cluster').mean().reset_index()\n",
    "print(cluster_analysis)"
   ]
  },
  {
   "cell_type": "code",
   "execution_count": 41,
   "metadata": {},
   "outputs": [
    {
     "name": "stderr",
     "output_type": "stream",
     "text": [
      "c:\\Users\\gabb_\\anaconda3\\Lib\\site-packages\\seaborn\\axisgrid.py:118: UserWarning: The figure layout has changed to tight\n",
      "  self._figure.tight_layout(*args, **kwargs)\n"
     ]
    },
    {
     "data": {
      "image/png": "[encoded data removed]",
      "text/plain": [
       "<Figure size 810.361x750 with 12 Axes>"
      ]
     },
     "metadata": {},
     "output_type": "display_data"
    }
   ],
   "source": [
    "# Visualize clusters\n",
    "sns.pairplot(rfm_table_no_outliers, hue='Cluster', vars=['Recency', 'Frequency', 'Monetary'])\n",
    "plt.show()"
   ]
  },
  {
   "cell_type": "code",
   "execution_count": 42,
   "metadata": {},
   "outputs": [],
   "source": [
    "#Optional clusters:\n",
    "#Summary of Clusters:\n",
    "#Loyal Customers: Frequent, recent purchasers who spend a lot.\n",
    "#At-Risk Customers: Past big spenders who haven’t purchased recently.\n",
    "#New Customers: Recent purchasers with few transactions and moderate spending.\n",
    "#Potential Loyalists: Recent, occasional purchasers with moderate spending.\n",
    "#Big Spenders: Customers who spend a lot but may not be frequent or recent.\n",
    "#Lost Customers: Infrequent purchasers who haven’t bought anything in a long time and spend little."
   ]
  },
  {
   "cell_type": "code",
   "execution_count": 52,
   "metadata": {},
   "outputs": [
    {
     "data": {
      "application/vnd.plotly.v1+json": {
       "config": {
        "plotlyServerURL": "https://plot.ly"
       },
       "data": [
        {
         "customdata": [
          [
           "AA-10315"
          ],
          [
           "AA-10375"
          ],
          [
           "AA-10480"
          ],
          [
           "AA-10645"
          ],
          [
           "AB-10150"
          ],
          [
           "AB-10165"
          ],
          [
           "AB-10255"
          ],
          [
           "AB-10600"
          ],
          [
           "AC-10420"
          ],
          [
           "AC-10450"
          ],
          [
           "AC-10615"
          ],
          [
           "AC-10660"
          ],
          [
           "AD-10180"
          ],
          [
           "AF-10870"
          ],
          [
           "AG-10270"
          ],
          [
           "AG-10300"
          ],
          [
           "AG-10330"
          ],
          [
           "AG-10390"
          ],
          [
           "AG-10495"
          ],
          [
           "AG-10675"
          ],
          [
           "AG-10765"
          ],
          [
           "AG-10900"
          ],
          [
           "AH-10030"
          ],
          [
           "AH-10075"
          ],
          [
           "AH-10120"
          ],
          [
           "AH-10195"
          ],
          [
           "AH-10210"
          ],
          [
           "AH-10465"
          ],
          [
           "AH-10585"
          ],
          [
           "AI-10855"
          ],
          [
           "AJ-10780"
          ],
          [
           "AJ-10795"
          ],
          [
           "AJ-10945"
          ],
          [
           "AJ-10960"
          ],
          [
           "AM-10360"
          ],
          [
           "AM-10705"
          ],
          [
           "AP-10720"
          ],
          [
           "AR-10345"
          ],
          [
           "AR-10405"
          ],
          [
           "AR-10510"
          ],
          [
           "AR-10540"
          ],
          [
           "AR-10825"
          ],
          [
           "AS-10045"
          ],
          [
           "AS-10090"
          ],
          [
           "AS-10135"
          ],
          [
           "AS-10225"
          ],
          [
           "AS-10240"
          ],
          [
           "AS-10285"
          ],
          [
           "AS-10630"
          ],
          [
           "AT-10435"
          ],
          [
           "AT-10735"
          ],
          [
           "AW-10840"
          ],
          [
           "AW-10930"
          ],
          [
           "AY-10555"
          ],
          [
           "AZ-10750"
          ],
          [
           "BB-10990"
          ],
          [
           "BB-11545"
          ],
          [
           "BC-11125"
          ],
          [
           "BD-11320"
          ],
          [
           "BD-11500"
          ],
          [
           "BD-11560"
          ],
          [
           "BD-11605"
          ],
          [
           "BD-11620"
          ],
          [
           "BD-11635"
          ],
          [
           "BD-11725"
          ],
          [
           "BD-11770"
          ],
          [
           "BE-11335"
          ],
          [
           "BE-11410"
          ],
          [
           "BE-11455"
          ],
          [
           "BF-10975"
          ],
          [
           "BF-11005"
          ],
          [
           "BF-11020"
          ],
          [
           "BF-11080"
          ],
          [
           "BF-11170"
          ],
          [
           "BF-11215"
          ],
          [
           "BF-11275"
          ],
          [
           "BG-11035"
          ],
          [
           "BG-11695"
          ],
          [
           "BG-11740"
          ],
          [
           "BH-11710"
          ],
          [
           "BK-11260"
          ],
          [
           "BM-11575"
          ],
          [
           "BM-11785"
          ],
          [
           "BN-11470"
          ],
          [
           "BN-11515"
          ],
          [
           "BO-11350"
          ],
          [
           "BO-11425"
          ],
          [
           "BP-11050"
          ],
          [
           "BP-11095"
          ],
          [
           "BP-11155"
          ],
          [
           "BP-11185"
          ],
          [
           "BP-11230"
          ],
          [
           "BP-11290"
          ],
          [
           "BS-11380"
          ],
          [
           "BS-11590"
          ],
          [
           "BS-11755"
          ],
          [
           "BS-11800"
          ],
          [
           "BT-11305"
          ],
          [
           "BT-11395"
          ],
          [
           "BT-11530"
          ],
          [
           "BT-11680"
          ],
          [
           "BV-11245"
          ],
          [
           "BW-11065"
          ],
          [
           "BW-11110"
          ],
          [
           "BW-11200"
          ],
          [
           "CA-11965"
          ],
          [
           "CA-12055"
          ],
          [
           "CA-12265"
          ],
          [
           "CA-12310"
          ],
          [
           "CA-12775"
          ],
          [
           "CB-12025"
          ],
          [
           "CB-12415"
          ],
          [
           "CB-12535"
          ],
          [
           "CC-12145"
          ],
          [
           "CC-12220"
          ],
          [
           "CC-12430"
          ],
          [
           "CC-12475"
          ],
          [
           "CC-12550"
          ],
          [
           "CC-12610"
          ],
          [
           "CC-12670"
          ],
          [
           "CD-11920"
          ],
          [
           "CD-11980"
          ],
          [
           "CD-12280"
          ],
          [
           "CD-12790"
          ],
          [
           "CG-12040"
          ],
          [
           "CG-12520"
          ],
          [
           "CJ-11875"
          ],
          [
           "CK-12325"
          ],
          [
           "CK-12595"
          ],
          [
           "CK-12760"
          ],
          [
           "CL-11890"
          ],
          [
           "CL-12700"
          ],
          [
           "CM-11815"
          ],
          [
           "CM-12115"
          ],
          [
           "CM-12160"
          ],
          [
           "CM-12190"
          ],
          [
           "CM-12235"
          ],
          [
           "CM-12655"
          ],
          [
           "CP-12085"
          ],
          [
           "CP-12340"
          ],
          [
           "CR-12580"
          ],
          [
           "CR-12730"
          ],
          [
           "CR-12820"
          ],
          [
           "CS-11845"
          ],
          [
           "CS-11860"
          ],
          [
           "CS-11950"
          ],
          [
           "CS-12175"
          ],
          [
           "CS-12250"
          ],
          [
           "CS-12355"
          ],
          [
           "CS-12400"
          ],
          [
           "CS-12460"
          ],
          [
           "CS-12505"
          ],
          [
           "CT-11995"
          ],
          [
           "CV-12295"
          ],
          [
           "CV-12805"
          ],
          [
           "CW-11905"
          ],
          [
           "CY-12745"
          ],
          [
           "DA-13450"
          ],
          [
           "DB-12910"
          ],
          [
           "DB-12970"
          ],
          [
           "DB-13060"
          ],
          [
           "DB-13120"
          ],
          [
           "DB-13210"
          ],
          [
           "DB-13270"
          ],
          [
           "DB-13360"
          ],
          [
           "DB-13405"
          ],
          [
           "DB-13555"
          ],
          [
           "DB-13615"
          ],
          [
           "DB-13660"
          ],
          [
           "DC-12850"
          ],
          [
           "DC-13285"
          ],
          [
           "DD-13570"
          ],
          [
           "DG-13300"
          ],
          [
           "DH-13075"
          ],
          [
           "DJ-13510"
          ],
          [
           "DJ-13630"
          ],
          [
           "DK-12835"
          ],
          [
           "DK-12895"
          ],
          [
           "DK-12985"
          ],
          [
           "DK-13090"
          ],
          [
           "DK-13150"
          ],
          [
           "DK-13225"
          ],
          [
           "DK-13375"
          ],
          [
           "DL-12865"
          ],
          [
           "DL-12925"
          ],
          [
           "DL-13315"
          ],
          [
           "DL-13330"
          ],
          [
           "DL-13495"
          ],
          [
           "DM-12955"
          ],
          [
           "DM-13015"
          ],
          [
           "DM-13345"
          ],
          [
           "DN-13690"
          ],
          [
           "DO-13435"
          ],
          [
           "DO-13645"
          ],
          [
           "DP-13000"
          ],
          [
           "DP-13105"
          ],
          [
           "DP-13390"
          ],
          [
           "DR-12880"
          ],
          [
           "DS-13030"
          ],
          [
           "DS-13180"
          ],
          [
           "DV-13045"
          ],
          [
           "DV-13465"
          ],
          [
           "DW-13195"
          ],
          [
           "DW-13480"
          ],
          [
           "DW-13540"
          ],
          [
           "DW-13585"
          ],
          [
           "Dl-13600"
          ],
          [
           "EA-14035"
          ],
          [
           "EB-13705"
          ],
          [
           "EB-13750"
          ],
          [
           "EB-13840"
          ],
          [
           "EB-13870"
          ],
          [
           "EB-13930"
          ],
          [
           "EB-13975"
          ],
          [
           "EB-14110"
          ],
          [
           "EB-14170"
          ],
          [
           "EC-14050"
          ],
          [
           "ED-13885"
          ],
          [
           "EG-13900"
          ],
          [
           "EH-13945"
          ],
          [
           "EH-13990"
          ],
          [
           "EH-14005"
          ],
          [
           "EH-14125"
          ],
          [
           "EH-14185"
          ],
          [
           "EJ-13720"
          ],
          [
           "EJ-14155"
          ],
          [
           "EK-13795"
          ],
          [
           "EL-13735"
          ],
          [
           "EM-13810"
          ],
          [
           "EM-13825"
          ],
          [
           "EM-13960"
          ],
          [
           "EM-14065"
          ],
          [
           "EM-14095"
          ],
          [
           "EM-14140"
          ],
          [
           "EM-14200"
          ],
          [
           "EN-13780"
          ],
          [
           "ES-14020"
          ],
          [
           "ES-14080"
          ],
          [
           "FA-14230"
          ],
          [
           "FC-14245"
          ],
          [
           "FC-14335"
          ],
          [
           "FG-14260"
          ],
          [
           "FH-14275"
          ],
          [
           "FH-14350"
          ],
          [
           "FH-14365"
          ],
          [
           "FM-14215"
          ],
          [
           "FM-14290"
          ],
          [
           "FM-14380"
          ],
          [
           "FO-14305"
          ],
          [
           "FP-14320"
          ],
          [
           "FW-14395"
          ],
          [
           "GA-14515"
          ],
          [
           "GA-14725"
          ],
          [
           "GB-14530"
          ],
          [
           "GB-14575"
          ],
          [
           "GD-14590"
          ],
          [
           "GG-14650"
          ],
          [
           "GH-14410"
          ],
          [
           "GH-14425"
          ],
          [
           "GH-14485"
          ],
          [
           "GH-14665"
          ],
          [
           "GK-14620"
          ],
          [
           "GM-14440"
          ],
          [
           "GM-14455"
          ],
          [
           "GM-14500"
          ],
          [
           "GM-14680"
          ],
          [
           "GM-14695"
          ],
          [
           "GT-14755"
          ],
          [
           "GW-14605"
          ],
          [
           "GZ-14470"
          ],
          [
           "GZ-14545"
          ],
          [
           "HA-14905"
          ],
          [
           "HA-14920"
          ],
          [
           "HE-14800"
          ],
          [
           "HF-14995"
          ],
          [
           "HG-14845"
          ],
          [
           "HG-14965"
          ],
          [
           "HG-15025"
          ],
          [
           "HH-15010"
          ],
          [
           "HJ-14875"
          ],
          [
           "HK-14890"
          ],
          [
           "HM-14980"
          ],
          [
           "HP-14815"
          ],
          [
           "HR-14770"
          ],
          [
           "HR-14830"
          ],
          [
           "HZ-14950"
          ],
          [
           "IG-15085"
          ],
          [
           "IL-15100"
          ],
          [
           "IM-15055"
          ],
          [
           "IM-15070"
          ],
          [
           "JA-15970"
          ],
          [
           "JB-15400"
          ],
          [
           "JB-16000"
          ],
          [
           "JB-16045"
          ],
          [
           "JC-15340"
          ],
          [
           "JC-15385"
          ],
          [
           "JC-15775"
          ],
          [
           "JC-16105"
          ],
          [
           "JD-15790"
          ],
          [
           "JD-16015"
          ],
          [
           "JD-16060"
          ],
          [
           "JE-15475"
          ],
          [
           "JE-15745"
          ],
          [
           "JE-16165"
          ],
          [
           "JF-15190"
          ],
          [
           "JF-15295"
          ],
          [
           "JF-15355"
          ],
          [
           "JF-15415"
          ],
          [
           "JF-15490"
          ],
          [
           "JF-15565"
          ],
          [
           "JG-15160"
          ],
          [
           "JG-15310"
          ],
          [
           "JG-15805"
          ],
          [
           "JH-15430"
          ],
          [
           "JH-15820"
          ],
          [
           "JH-15910"
          ],
          [
           "JH-16180"
          ],
          [
           "JK-15205"
          ],
          [
           "JK-15325"
          ],
          [
           "JK-15370"
          ],
          [
           "JK-15625"
          ],
          [
           "JK-15640"
          ],
          [
           "JK-15730"
          ],
          [
           "JK-16090"
          ],
          [
           "JK-16120"
          ],
          [
           "JL-15130"
          ],
          [
           "JL-15175"
          ],
          [
           "JL-15235"
          ],
          [
           "JL-15505"
          ],
          [
           "JM-15250"
          ],
          [
           "JM-15265"
          ],
          [
           "JM-15535"
          ],
          [
           "JM-15580"
          ],
          [
           "JM-15655"
          ],
          [
           "JM-15865"
          ],
          [
           "JM-16195"
          ],
          [
           "JO-15145"
          ],
          [
           "JO-15280"
          ],
          [
           "JO-15550"
          ],
          [
           "JP-15460"
          ],
          [
           "JP-15520"
          ],
          [
           "JP-16135"
          ],
          [
           "JR-15700"
          ],
          [
           "JR-16210"
          ],
          [
           "JS-15595"
          ],
          [
           "JS-15685"
          ],
          [
           "JS-16030"
          ],
          [
           "JW-15220"
          ],
          [
           "JW-15955"
          ],
          [
           "KA-16525"
          ],
          [
           "KB-16240"
          ],
          [
           "KB-16315"
          ],
          [
           "KB-16405"
          ],
          [
           "KB-16585"
          ],
          [
           "KB-16600"
          ],
          [
           "KC-16255"
          ],
          [
           "KC-16540"
          ],
          [
           "KC-16675"
          ],
          [
           "KD-16345"
          ],
          [
           "KD-16615"
          ],
          [
           "KE-16420"
          ],
          [
           "KH-16330"
          ],
          [
           "KH-16360"
          ],
          [
           "KH-16510"
          ],
          [
           "KH-16630"
          ],
          [
           "KH-16690"
          ],
          [
           "KL-16555"
          ],
          [
           "KM-16225"
          ],
          [
           "KM-16375"
          ],
          [
           "KM-16660"
          ],
          [
           "KM-16720"
          ],
          [
           "KN-16390"
          ],
          [
           "KN-16450"
          ],
          [
           "KN-16705"
          ],
          [
           "KS-16300"
          ],
          [
           "KT-16465"
          ],
          [
           "KT-16480"
          ],
          [
           "KW-16435"
          ],
          [
           "LB-16735"
          ],
          [
           "LB-16795"
          ],
          [
           "LC-16885"
          ],
          [
           "LC-16930"
          ],
          [
           "LC-17050"
          ],
          [
           "LC-17140"
          ],
          [
           "LE-16810"
          ],
          [
           "LF-17185"
          ],
          [
           "LH-16750"
          ],
          [
           "LH-16900"
          ],
          [
           "LH-17020"
          ],
          [
           "LH-17155"
          ],
          [
           "LL-16840"
          ],
          [
           "LM-17065"
          ],
          [
           "LO-17170"
          ],
          [
           "LP-17080"
          ],
          [
           "LP-17095"
          ],
          [
           "LR-16915"
          ],
          [
           "LR-17035"
          ],
          [
           "LS-16945"
          ],
          [
           "LS-16975"
          ],
          [
           "LS-17200"
          ],
          [
           "LS-17245"
          ],
          [
           "LT-16765"
          ],
          [
           "LT-17110"
          ],
          [
           "LW-16825"
          ],
          [
           "LW-16990"
          ],
          [
           "LW-17125"
          ],
          [
           "LW-17215"
          ],
          [
           "MA-17995"
          ],
          [
           "MB-17305"
          ],
          [
           "MB-18085"
          ],
          [
           "MC-17275"
          ],
          [
           "MC-17425"
          ],
          [
           "MC-17575"
          ],
          [
           "MC-17590"
          ],
          [
           "MC-17605"
          ],
          [
           "MC-17635"
          ],
          [
           "MC-17845"
          ],
          [
           "MC-18100"
          ],
          [
           "MC-18130"
          ],
          [
           "MD-17350"
          ],
          [
           "MD-17860"
          ],
          [
           "ME-17725"
          ],
          [
           "ME-18010"
          ],
          [
           "MF-18250"
          ],
          [
           "MG-17650"
          ],
          [
           "MG-17680"
          ],
          [
           "MG-17875"
          ],
          [
           "MG-17890"
          ],
          [
           "MG-18145"
          ],
          [
           "MG-18205"
          ],
          [
           "MH-17290"
          ],
          [
           "MH-17440"
          ],
          [
           "MH-17455"
          ],
          [
           "MH-17620"
          ],
          [
           "MH-17785"
          ],
          [
           "MH-18025"
          ],
          [
           "MH-18115"
          ],
          [
           "MJ-17740"
          ],
          [
           "MK-17905"
          ],
          [
           "MK-18160"
          ],
          [
           "ML-17395"
          ],
          [
           "ML-17410"
          ],
          [
           "ML-17755"
          ],
          [
           "ML-18040"
          ],
          [
           "ML-18265"
          ],
          [
           "MM-17260"
          ],
          [
           "MM-17920"
          ],
          [
           "MM-18055"
          ],
          [
           "MM-18280"
          ],
          [
           "MN-17935"
          ],
          [
           "MO-17500"
          ],
          [
           "MO-17800"
          ],
          [
           "MO-17950"
          ],
          [
           "MP-17965"
          ],
          [
           "MP-18175"
          ],
          [
           "MR-17545"
          ],
          [
           "MS-17365"
          ],
          [
           "MS-17770"
          ],
          [
           "MS-17980"
          ],
          [
           "MT-17815"
          ],
          [
           "MT-18070"
          ],
          [
           "MV-17485"
          ],
          [
           "MV-18190"
          ],
          [
           "MW-18220"
          ],
          [
           "MW-18235"
          ],
          [
           "MY-17380"
          ],
          [
           "MY-18295"
          ],
          [
           "MZ-17335"
          ],
          [
           "MZ-17515"
          ],
          [
           "NB-18655"
          ],
          [
           "NC-18340"
          ],
          [
           "NC-18415"
          ],
          [
           "NC-18625"
          ],
          [
           "ND-18370"
          ],
          [
           "ND-18460"
          ],
          [
           "NF-18595"
          ],
          [
           "NG-18355"
          ],
          [
           "NG-18430"
          ],
          [
           "NH-18610"
          ],
          [
           "NK-18490"
          ],
          [
           "NL-18310"
          ],
          [
           "NM-18445"
          ],
          [
           "NM-18520"
          ],
          [
           "NP-18325"
          ],
          [
           "NP-18670"
          ],
          [
           "NP-18685"
          ],
          [
           "NR-18550"
          ],
          [
           "NS-18505"
          ],
          [
           "NS-18640"
          ],
          [
           "NW-18400"
          ],
          [
           "NZ-18565"
          ],
          [
           "ON-18715"
          ],
          [
           "OT-18730"
          ],
          [
           "PA-19060"
          ],
          [
           "PB-18805"
          ],
          [
           "PB-19105"
          ],
          [
           "PB-19150"
          ],
          [
           "PC-18745"
          ],
          [
           "PF-19165"
          ],
          [
           "PF-19225"
          ],
          [
           "PG-18820"
          ],
          [
           "PG-18895"
          ],
          [
           "PH-18790"
          ],
          [
           "PJ-18835"
          ],
          [
           "PJ-19015"
          ],
          [
           "PL-18925"
          ],
          [
           "PM-18940"
          ],
          [
           "PM-19135"
          ],
          [
           "PN-18775"
          ],
          [
           "PO-18850"
          ],
          [
           "PO-18865"
          ],
          [
           "PO-19180"
          ],
          [
           "PO-19195"
          ],
          [
           "PR-18880"
          ],
          [
           "PS-18760"
          ],
          [
           "PS-18970"
          ],
          [
           "PS-19045"
          ],
          [
           "PT-19090"
          ],
          [
           "PV-18985"
          ],
          [
           "PW-19030"
          ],
          [
           "QJ-19255"
          ],
          [
           "RA-19285"
          ],
          [
           "RA-19885"
          ],
          [
           "RA-19915"
          ],
          [
           "RA-19945"
          ],
          [
           "RB-19330"
          ],
          [
           "RB-19435"
          ],
          [
           "RB-19465"
          ],
          [
           "RB-19570"
          ],
          [
           "RB-19705"
          ],
          [
           "RB-19795"
          ],
          [
           "RC-19825"
          ],
          [
           "RC-19960"
          ],
          [
           "RD-19480"
          ],
          [
           "RD-19585"
          ],
          [
           "RD-19660"
          ],
          [
           "RD-19720"
          ],
          [
           "RD-19810"
          ],
          [
           "RD-19900"
          ],
          [
           "RD-19930"
          ],
          [
           "RE-19450"
          ],
          [
           "RF-19345"
          ],
          [
           "RF-19735"
          ],
          [
           "RF-19840"
          ],
          [
           "RH-19495"
          ],
          [
           "RK-19300"
          ],
          [
           "RL-19615"
          ],
          [
           "RM-19375"
          ],
          [
           "RM-19675"
          ],
          [
           "RM-19750"
          ],
          [
           "RO-19780"
          ],
          [
           "RP-19390"
          ],
          [
           "RP-19855"
          ],
          [
           "RR-19315"
          ],
          [
           "RR-19525"
          ],
          [
           "RS-19420"
          ],
          [
           "RS-19765"
          ],
          [
           "RS-19870"
          ],
          [
           "RW-19540"
          ],
          [
           "RW-19630"
          ],
          [
           "RW-19690"
          ],
          [
           "SA-20830"
          ],
          [
           "SB-20170"
          ],
          [
           "SB-20185"
          ],
          [
           "SC-20050"
          ],
          [
           "SC-20230"
          ],
          [
           "SC-20260"
          ],
          [
           "SC-20305"
          ],
          [
           "SC-20380"
          ],
          [
           "SC-20440"
          ],
          [
           "SC-20575"
          ],
          [
           "SC-20680"
          ],
          [
           "SC-20695"
          ],
          [
           "SC-20725"
          ],
          [
           "SC-20770"
          ],
          [
           "SC-20800"
          ],
          [
           "SC-20845"
          ],
          [
           "SD-20485"
          ],
          [
           "SF-20065"
          ],
          [
           "SF-20200"
          ],
          [
           "SF-20965"
          ],
          [
           "SG-20080"
          ],
          [
           "SG-20470"
          ],
          [
           "SG-20605"
          ],
          [
           "SG-20890"
          ],
          [
           "SH-20395"
          ],
          [
           "SJ-20125"
          ],
          [
           "SJ-20215"
          ],
          [
           "SJ-20500"
          ],
          [
           "SK-19990"
          ],
          [
           "SL-20155"
          ],
          [
           "SM-20950"
          ],
          [
           "SN-20560"
          ],
          [
           "SN-20710"
          ],
          [
           "SO-20335"
          ],
          [
           "SP-20545"
          ],
          [
           "SP-20620"
          ],
          [
           "SP-20650"
          ],
          [
           "SP-20860"
          ],
          [
           "SP-20920"
          ],
          [
           "SR-20425"
          ],
          [
           "SR-20740"
          ],
          [
           "SS-20140"
          ],
          [
           "SS-20410"
          ],
          [
           "SS-20875"
          ],
          [
           "ST-20530"
          ],
          [
           "SU-20665"
          ],
          [
           "SV-20785"
          ],
          [
           "SV-20815"
          ],
          [
           "SV-20935"
          ],
          [
           "SW-20245"
          ],
          [
           "SW-20275"
          ],
          [
           "SW-20350"
          ],
          [
           "SW-20455"
          ],
          [
           "SZ-20035"
          ],
          [
           "TB-21055"
          ],
          [
           "TB-21175"
          ],
          [
           "TB-21190"
          ],
          [
           "TB-21250"
          ],
          [
           "TB-21355"
          ],
          [
           "TB-21520"
          ],
          [
           "TB-21595"
          ],
          [
           "TB-21625"
          ],
          [
           "TC-21145"
          ],
          [
           "TC-21295"
          ],
          [
           "TC-21475"
          ],
          [
           "TC-21535"
          ],
          [
           "TD-20995"
          ],
          [
           "TG-21310"
          ],
          [
           "TG-21640"
          ],
          [
           "TH-21100"
          ],
          [
           "TH-21115"
          ],
          [
           "TH-21235"
          ],
          [
           "TH-21550"
          ],
          [
           "TM-21010"
          ],
          [
           "TM-21490"
          ],
          [
           "TN-21040"
          ],
          [
           "TP-21130"
          ],
          [
           "TP-21415"
          ],
          [
           "TP-21565"
          ],
          [
           "TR-21325"
          ],
          [
           "TS-21085"
          ],
          [
           "TS-21205"
          ],
          [
           "TS-21340"
          ],
          [
           "TS-21430"
          ],
          [
           "TS-21505"
          ],
          [
           "TS-21610"
          ],
          [
           "TS-21655"
          ],
          [
           "TT-21070"
          ],
          [
           "TT-21220"
          ],
          [
           "TT-21265"
          ],
          [
           "TT-21460"
          ],
          [
           "TW-21025"
          ],
          [
           "TZ-21580"
          ],
          [
           "VB-21745"
          ],
          [
           "VF-21715"
          ],
          [
           "VG-21790"
          ],
          [
           "VG-21805"
          ],
          [
           "VM-21685"
          ],
          [
           "VM-21835"
          ],
          [
           "VP-21730"
          ],
          [
           "VP-21760"
          ],
          [
           "VS-21820"
          ],
          [
           "VW-21775"
          ],
          [
           "XP-21865"
          ],
          [
           "YC-21895"
          ],
          [
           "YS-21880"
          ],
          [
           "ZD-21925"
          ]
         ],
         "hovertemplate": "Recency=%{x}<br>Frequency=%{y}<br>Monetary=%{z}<br>Customer ID=%{customdata[0]}<br>Cluster=%{marker.color}<extra></extra>",
         "legendgroup": "",
         "marker": {
          "color": [
           2,
           1,
           0,
           2,
           1,
           1,
           1,
           1,
           0,
           2,
           2,
           0,
           2,
           2,
           0,
           1,
           1,
           1,
           2,
           2,
           1,
           2,
           1,
           2,
           1,
           1,
           2,
           0,
           1,
           2,
           2,
           2,
           1,
           1,
           1,
           2,
           2,
           1,
           1,
           1,
           2,
           2,
           1,
           2,
           1,
           2,
           0,
           1,
           1,
           1,
           2,
           1,
           2,
           1,
           1,
           1,
           2,
           2,
           2,
           2,
           0,
           2,
           1,
           1,
           1,
           0,
           2,
           1,
           0,
           1,
           1,
           2,
           1,
           2,
           1,
           1,
           1,
           1,
           1,
           2,
           1,
           1,
           0,
           1,
           1,
           1,
           1,
           1,
           2,
           1,
           2,
           1,
           2,
           2,
           1,
           1,
           0,
           0,
           0,
           1,
           2,
           0,
           0,
           2,
           0,
           1,
           0,
           2,
           1,
           2,
           2,
           1,
           2,
           1,
           2,
           2,
           1,
           1,
           1,
           1,
           1,
           1,
           1,
           0,
           1,
           0,
           0,
           1,
           2,
           1,
           1,
           1,
           1,
           1,
           1,
           1,
           0,
           2,
           2,
           2,
           1,
           1,
           1,
           1,
           1,
           2,
           0,
           2,
           2,
           2,
           1,
           2,
           2,
           0,
           2,
           1,
           1,
           0,
           1,
           0,
           2,
           2,
           2,
           2,
           0,
           0,
           2,
           1,
           1,
           2,
           1,
           1,
           1,
           2,
           1,
           1,
           2,
           2,
           1,
           1,
           1,
           2,
           2,
           1,
           2,
           1,
           1,
           2,
           1,
           2,
           2,
           0,
           1,
           1,
           1,
           1,
           0,
           2,
           2,
           2,
           1,
           2,
           1,
           2,
           1,
           0,
           1,
           2,
           2,
           2,
           1,
           1,
           1,
           1,
           1,
           1,
           1,
           2,
           1,
           0,
           0,
           1,
           2,
           1,
           0,
           1,
           1,
           1,
           1,
           2,
           1,
           1,
           1,
           2,
           1,
           0,
           1,
           2,
           2,
           2,
           0,
           1,
           2,
           0,
           2,
           2,
           2,
           1,
           2,
           2,
           0,
           2,
           2,
           2,
           2,
           1,
           2,
           2,
           2,
           0,
           1,
           2,
           2,
           1,
           1,
           1,
           2,
           1,
           1,
           2,
           1,
           1,
           2,
           1,
           2,
           1,
           2,
           2,
           1,
           1,
           2,
           0,
           1,
           1,
           2,
           1,
           1,
           2,
           0,
           0,
           2,
           1,
           1,
           1,
           1,
           1,
           2,
           1,
           1,
           1,
           0,
           0,
           2,
           1,
           2,
           0,
           1,
           1,
           1,
           2,
           2,
           1,
           0,
           1,
           1,
           1,
           0,
           2,
           0,
           2,
           2,
           2,
           2,
           1,
           2,
           1,
           1,
           1,
           2,
           2,
           1,
           1,
           1,
           1,
           2,
           2,
           2,
           1,
           0,
           1,
           2,
           1,
           1,
           1,
           1,
           1,
           2,
           2,
           1,
           1,
           1,
           0,
           1,
           2,
           1,
           0,
           1,
           1,
           1,
           0,
           1,
           2,
           2,
           2,
           2,
           2,
           2,
           2,
           2,
           1,
           2,
           2,
           1,
           1,
           0,
           0,
           2,
           2,
           1,
           2,
           2,
           2,
           1,
           2,
           1,
           2,
           1,
           1,
           0,
           0,
           0,
           0,
           1,
           1,
           2,
           2,
           1,
           2,
           2,
           1,
           1,
           1,
           2,
           1,
           1,
           0,
           2,
           0,
           2,
           1,
           1,
           0,
           1,
           2,
           2,
           0,
           2,
           2,
           0,
           2,
           1,
           1,
           1,
           1,
           2,
           1,
           1,
           1,
           1,
           0,
           1,
           0,
           1,
           1,
           1,
           1,
           2,
           2,
           2,
           0,
           2,
           2,
           1,
           1,
           1,
           1,
           2,
           2,
           1,
           1,
           1,
           1,
           1,
           2,
           2,
           1,
           2,
           2,
           1,
           1,
           0,
           1,
           1,
           2,
           1,
           1,
           2,
           1,
           0,
           2,
           0,
           1,
           0,
           2,
           0,
           1,
           1,
           1,
           0,
           1,
           1,
           2,
           0,
           2,
           2,
           0,
           0,
           2,
           2,
           2,
           2,
           0,
           2,
           1,
           1,
           1,
           1,
           1,
           0,
           1,
           2,
           2,
           1,
           1,
           1,
           1,
           0,
           1,
           1,
           2,
           1,
           2,
           1,
           1,
           2,
           1,
           2,
           1,
           1,
           2,
           2,
           2,
           2,
           2,
           1,
           1,
           2,
           2,
           1,
           1,
           2,
           0,
           1,
           2,
           2,
           1,
           2,
           1,
           2,
           1,
           0,
           0,
           1,
           1,
           1,
           1,
           2,
           0,
           2,
           0,
           2,
           2,
           1,
           1,
           1,
           1,
           2,
           1,
           2,
           2,
           2,
           2,
           0,
           2,
           2,
           2,
           2,
           2,
           2,
           1,
           1,
           1,
           1,
           2,
           2,
           1,
           1,
           2,
           1,
           2,
           2,
           1,
           0,
           2,
           0,
           1,
           2,
           1,
           0,
           1,
           1,
           2,
           1,
           2,
           2,
           0,
           2,
           0,
           2,
           2,
           1,
           2,
           2,
           1,
           1,
           1,
           2,
           2,
           1,
           1,
           1,
           1,
           1,
           1,
           2,
           2,
           2,
           1,
           0,
           1,
           2,
           0,
           2,
           1,
           2,
           1,
           1,
           1,
           0,
           1,
           0,
           1,
           1,
           2,
           2,
           1,
           1,
           2,
           2,
           0,
           0,
           0,
           2,
           0,
           1,
           1,
           1,
           0,
           2,
           0,
           0,
           2,
           2,
           1,
           1,
           1,
           1,
           0,
           1,
           1,
           1,
           2,
           0,
           2,
           2,
           2,
           2,
           0
          ],
          "coloraxis": "coloraxis",
          "opacity": 0.6,
          "size": 5,
          "symbol": "circle"
         },
         "mode": "markers",
         "name": "",
         "scene": "scene",
         "showlegend": false,
         "type": "scatter3d",
         "x": [
          185,
          20,
          260,
          56,
          42,
          26,
          167,
          51,
          233,
          12,
          7,
          283,
          30,
          42,
          279,
          119,
          9,
          115,
          79,
          98,
          78,
          97,
          13,
          35,
          61,
          56,
          7,
          231,
          22,
          14,
          76,
          167,
          86,
          75,
          29,
          163,
          42,
          112,
          126,
          15,
          7,
          59,
          89,
          29,
          42,
          23,
          193,
          20,
          93,
          22,
          14,
          21,
          47,
          15,
          161,
          106,
          29,
          203,
          34,
          36,
          279,
          98,
          70,
          10,
          94,
          328,
          120,
          99,
          255,
          92,
          40,
          75,
          26,
          17,
          66,
          58,
          29,
          37,
          58,
          24,
          78,
          101,
          219,
          25,
          10,
          138,
          76,
          84,
          18,
          90,
          2,
          40,
          13,
          29,
          36,
          2,
          266,
          337,
          303,
          92,
          21,
          335,
          213,
          122,
          204,
          97,
          402,
          57,
          14,
          121,
          48,
          27,
          198,
          107,
          21,
          1,
          40,
          28,
          35,
          30,
          41,
          55,
          43,
          400,
          50,
          339,
          366,
          121,
          44,
          83,
          107,
          106,
          132,
          9,
          27,
          9,
          386,
          28,
          83,
          161,
          58,
          79,
          86,
          92,
          163,
          26,
          233,
          27,
          7,
          3,
          28,
          59,
          97,
          255,
          6,
          23,
          61,
          353,
          22,
          242,
          17,
          49,
          10,
          54,
          265,
          188,
          108,
          34,
          13,
          38,
          24,
          42,
          33,
          278,
          49,
          13,
          22,
          46,
          8,
          43,
          11,
          11,
          20,
          101,
          58,
          23,
          58,
          77,
          115,
          58,
          23,
          218,
          134,
          27,
          127,
          7,
          359,
          4,
          94,
          24,
          20,
          30,
          70,
          218,
          99,
          243,
          120,
          153,
          49,
          36,
          91,
          101,
          162,
          1,
          114,
          83,
          54,
          136,
          23,
          218,
          406,
          3,
          153,
          106,
          303,
          58,
          45,
          78,
          133,
          56,
          152,
          48,
          114,
          49,
          159,
          288,
          41,
          29,
          98,
          71,
          185,
          35,
          38,
          213,
          6,
          8,
          37,
          146,
          39,
          24,
          363,
          150,
          6,
          63,
          14,
          6,
          44,
          76,
          51,
          388,
          3,
          113,
          84,
          17,
          107,
          153,
          118,
          35,
          29,
          8,
          158,
          70,
          21,
          13,
          22,
          55,
          24,
          7,
          73,
          127,
          152,
          248,
          31,
          14,
          160,
          36,
          72,
          143,
          410,
          391,
          93,
          8,
          44,
          8,
          115,
          176,
          159,
          58,
          118,
          113,
          301,
          194,
          52,
          21,
          66,
          226,
          106,
          3,
          122,
          55,
          2,
          3,
          224,
          6,
          175,
          42,
          405,
          62,
          288,
          45,
          62,
          181,
          85,
          29,
          118,
          9,
          7,
          120,
          50,
          38,
          38,
          103,
          1,
          9,
          110,
          58,
          58,
          93,
          216,
          38,
          9,
          103,
          69,
          34,
          120,
          43,
          29,
          43,
          6,
          37,
          5,
          297,
          118,
          231,
          2,
          408,
          98,
          58,
          42,
          290,
          27,
          41,
          2,
          23,
          59,
          3,
          17,
          15,
          57,
          16,
          29,
          20,
          53,
          99,
          296,
          392,
          101,
          97,
          49,
          153,
          17,
          42,
          55,
          14,
          22,
          23,
          152,
          22,
          240,
          386,
          250,
          392,
          3,
          41,
          10,
          27,
          133,
          179,
          21,
          97,
          35,
          27,
          35,
          89,
          34,
          206,
          22,
          187,
          49,
          45,
          77,
          400,
          28,
          52,
          113,
          190,
          2,
          42,
          370,
          118,
          37,
          29,
          93,
          8,
          30,
          93,
          117,
          100,
          85,
          265,
          120,
          377,
          86,
          156,
          99,
          50,
          6,
          23,
          29,
          241,
          70,
          55,
          30,
          80,
          101,
          169,
          8,
          62,
          86,
          35,
          73,
          105,
          181,
          73,
          17,
          126,
          274,
          122,
          27,
          50,
          204,
          28,
          20,
          18,
          45,
          30,
          72,
          31,
          283,
          20,
          225,
          42,
          205,
          28,
          184,
          115,
          49,
          49,
          190,
          71,
          59,
          161,
          245,
          26,
          59,
          407,
          211,
          7,
          175,
          173,
          86,
          411,
          66,
          104,
          26,
          58,
          98,
          3,
          197,
          115,
          37,
          58,
          71,
          40,
          135,
          16,
          387,
          52,
          31,
          5,
          1,
          161,
          87,
          37,
          108,
          70,
          237,
          72,
          90,
          47,
          26,
          6,
          44,
          13,
          62,
          69,
          20,
          10,
          26,
          55,
          33,
          370,
          111,
          73,
          181,
          115,
          22,
          15,
          115,
          43,
          303,
          391,
          90,
          7,
          33,
          120,
          122,
          346,
          7,
          300,
          36,
          34,
          29,
          20,
          171,
          77,
          37,
          20,
          121,
          90,
          80,
          64,
          202,
          189,
          41,
          150,
          188,
          30,
          31,
          37,
          93,
          127,
          90,
          188,
          42,
          31,
          132,
          201,
          60,
          60,
          49,
          9,
          184,
          109,
          227,
          24,
          96,
          30,
          254,
          9,
          71,
          26,
          112,
          80,
          30,
          328,
          48,
          387,
          80,
          71,
          9,
          197,
          16,
          111,
          121,
          126,
          21,
          321,
          77,
          3,
          82,
          31,
          163,
          163,
          36,
          120,
          59,
          50,
          350,
          147,
          108,
          286,
          31,
          107,
          28,
          154,
          5,
          38,
          338,
          115,
          345,
          59,
          118,
          73,
          104,
          131,
          91,
          9,
          105,
          351,
          194,
          358,
          199,
          227,
          173,
          12,
          56,
          239,
          32,
          184,
          407,
          13,
          65,
          36,
          55,
          14,
          155,
          287,
          55,
          118,
          31,
          76,
          222,
          29,
          44,
          5,
          10,
          203
         ],
         "y": [
          11,
          15,
          12,
          18,
          12,
          14,
          14,
          8,
          5,
          9,
          18,
          6,
          12,
          16,
          14,
          5,
          9,
          8,
          21,
          15,
          5,
          21,
          11,
          20,
          16,
          8,
          13,
          8,
          5,
          18,
          15,
          21,
          10,
          5,
          12,
          22,
          19,
          5,
          7,
          7,
          9,
          13,
          10,
          25,
          3,
          13,
          13,
          8,
          12,
          9,
          16,
          8,
          16,
          10,
          12,
          8,
          20,
          18,
          19,
          10,
          4,
          20,
          8,
          5,
          10,
          10,
          9,
          5,
          13,
          13,
          10,
          21,
          6,
          27,
          8,
          4,
          12,
          8,
          7,
          24,
          16,
          10,
          14,
          6,
          17,
          12,
          2,
          7,
          20,
          11,
          18,
          6,
          16,
          13,
          10,
          14,
          8,
          9,
          10,
          10,
          20,
          14,
          3,
          17,
          10,
          10,
          10,
          17,
          11,
          17,
          26,
          12,
          19,
          11,
          22,
          19,
          13,
          4,
          12,
          14,
          9,
          6,
          13,
          15,
          9,
          5,
          1,
          12,
          25,
          14,
          7,
          8,
          10,
          7,
          7,
          7,
          8,
          10,
          14,
          15,
          6,
          6,
          7,
          8,
          7,
          22,
          8,
          28,
          22,
          14,
          6,
          9,
          18,
          13,
          19,
          11,
          11,
          8,
          12,
          14,
          13,
          14,
          21,
          13,
          6,
          14,
          14,
          11,
          10,
          18,
          7,
          9,
          8,
          23,
          13,
          8,
          27,
          15,
          8,
          13,
          5,
          19,
          23,
          14,
          14,
          17,
          8,
          12,
          9,
          20,
          13,
          11,
          13,
          11,
          17,
          14,
          14,
          24,
          19,
          20,
          9,
          15,
          9,
          11,
          9,
          10,
          6,
          25,
          12,
          20,
          8,
          11,
          7,
          6,
          11,
          7,
          7,
          14,
          9,
          17,
          8,
          11,
          18,
          8,
          8,
          8,
          4,
          2,
          7,
          16,
          6,
          6,
          10,
          21,
          4,
          9,
          8,
          20,
          17,
          14,
          10,
          11,
          21,
          14,
          13,
          15,
          20,
          14,
          15,
          14,
          3,
          14,
          22,
          20,
          16,
          6,
          24,
          17,
          10,
          3,
          3,
          14,
          11,
          12,
          13,
          11,
          11,
          7,
          9,
          14,
          5,
          10,
          18,
          11,
          19,
          10,
          17,
          11,
          6,
          6,
          15,
          7,
          10,
          13,
          14,
          6,
          7,
          14,
          4,
          21,
          24,
          16,
          7,
          9,
          4,
          4,
          16,
          9,
          7,
          11,
          6,
          13,
          23,
          7,
          19,
          14,
          16,
          14,
          15,
          16,
          18,
          11,
          9,
          7,
          8,
          9,
          5,
          13,
          4,
          17,
          12,
          12,
          20,
          9,
          17,
          12,
          7,
          10,
          17,
          19,
          13,
          10,
          7,
          12,
          13,
          19,
          13,
          11,
          11,
          15,
          16,
          13,
          1,
          10,
          8,
          11,
          18,
          14,
          11,
          11,
          10,
          22,
          9,
          23,
          9,
          10,
          5,
          7,
          10,
          13,
          15,
          18,
          14,
          23,
          17,
          15,
          22,
          19,
          20,
          9,
          28,
          17,
          8,
          15,
          4,
          14,
          13,
          10,
          3,
          24,
          23,
          14,
          9,
          19,
          9,
          16,
          3,
          15,
          6,
          19,
          12,
          7,
          9,
          9,
          15,
          16,
          12,
          14,
          22,
          14,
          12,
          3,
          14,
          15,
          11,
          5,
          15,
          12,
          19,
          10,
          13,
          10,
          11,
          17,
          18,
          8,
          14,
          19,
          11,
          17,
          8,
          13,
          6,
          12,
          14,
          10,
          7,
          13,
          8,
          2,
          13,
          9,
          11,
          6,
          11,
          10,
          22,
          15,
          17,
          11,
          20,
          15,
          13,
          4,
          3,
          6,
          16,
          19,
          12,
          10,
          5,
          11,
          4,
          20,
          19,
          6,
          24,
          19,
          11,
          10,
          11,
          15,
          11,
          14,
          3,
          13,
          21,
          6,
          10,
          17,
          17,
          14,
          9,
          18,
          8,
          12,
          16,
          9,
          11,
          11,
          10,
          14,
          15,
          21,
          10,
          7,
          13,
          15,
          26,
          22,
          20,
          15,
          10,
          7,
          10,
          5,
          11,
          5,
          10,
          10,
          26,
          17,
          2,
          13,
          10,
          8,
          4,
          7,
          13,
          22,
          13,
          18,
          10,
          12,
          21,
          13,
          13,
          7,
          13,
          13,
          13,
          17,
          15,
          22,
          9,
          6,
          16,
          23,
          9,
          7,
          18,
          10,
          11,
          15,
          19,
          5,
          20,
          16,
          21,
          10,
          9,
          16,
          14,
          11,
          8,
          8,
          24,
          9,
          11,
          2,
          12,
          25,
          15,
          4,
          10,
          9,
          14,
          3,
          23,
          16,
          15,
          21,
          7,
          12,
          15,
          11,
          18,
          12,
          20,
          10,
          7,
          8,
          14,
          26,
          21,
          5,
          4,
          21,
          9,
          15,
          17,
          11,
          14,
          13,
          5,
          15,
          24,
          10,
          7,
          5,
          9,
          22,
          15,
          19,
          15,
          10,
          24,
          15,
          24,
          14,
          9,
          12,
          21,
          12,
          15,
          12,
          18,
          25,
          6,
          13,
          10,
          7,
          6,
          9,
          20,
          18,
          11,
          4,
          19,
          13,
          20,
          7,
          15,
          4,
          16,
          11,
          10,
          16,
          9,
          10,
          7,
          9,
          13,
          13,
          19,
          4,
          12,
          16,
          10,
          10,
          7,
          2,
          19,
          12,
          7,
          14,
          11,
          14,
          14,
          15,
          3,
          14,
          12,
          9,
          10,
          11,
          8,
          6,
          12,
          8,
          5,
          14,
          8,
          18,
          28,
          8,
          12,
          9
         ],
         "z": [
          5563.56,
          1056.39,
          1790.5120000000002,
          5086.9349999999995,
          966.71,
          1113.838,
          914.5319999999999,
          1515.862,
          925.8,
          5527.846,
          2537.6859999999997,
          657.316,
          6106.88,
          2052.908,
          2582.898,
          367.548,
          660.972,
          200.945,
          2356.855,
          3489.0396000000005,
          170.584,
          4510.797,
          1744.7,
          3250.337,
          1735.5140000000001,
          1587.452,
          4805.344,
          2495.3916,
          738.504,
          4375.786,
          4867.344,
          4501.391,
          1839.24,
          629.2479999999999,
          814.012,
          5664.022,
          1638.554,
          1055.694,
          2236.128,
          264.86400000000003,
          6608.448,
          4523.336,
          3050.692,
          3255.31,
          58.82,
          4260.784,
          584.6080000000001,
          3214.236,
          833.398,
          1171.814,
          3831.864,
          649.376,
          2852.968,
          497.014,
          1622.0179999999998,
          744.3399999999999,
          6765.728,
          2933.676,
          5718.521,
          4411.2429999999995,
          320.54,
          3288.471,
          1538.11,
          582.646,
          1526.5,
          658.466,
          4204.676,
          2261.438,
          1727.652,
          599.798,
          1333.88,
          2888.506,
          272.95,
          5907.972,
          1585.162,
          791.9899999999999,
          2798.948,
          1874.172,
          1006.356,
          6255.351,
          659.1379999999999,
          808.162,
          1338.842,
          265.296,
          1459.344,
          2682.728,
          130.83,
          983.42,
          2442.044,
          1697.8609999999999,
          3675.861,
          1181.49,
          2475.157,
          3887.834,
          2454.928,
          2562.382,
          949.4300000000001,
          2567.656,
          2186.6130000000003,
          2684.4919999999997,
          3196.752,
          1523.2730000000001,
          385.516,
          4750.358,
          1738.406,
          3789.7228,
          1679.7240000000002,
          2648.2872,
          1421.954,
          3041.566,
          6076.139,
          1949.2,
          4246.4555,
          2471.65,
          3913.418,
          2870.05,
          1659.438,
          113.832,
          2540.631,
          2269.7015,
          2033.968,
          639.766,
          1205.584,
          1860.732,
          904.4680000000001,
          1148.7800000000002,
          16.52,
          2945.321,
          2372.75,
          1582.109,
          1262.0140000000001,
          2353.586,
          1673.888,
          1661.6100000000001,
          2533.314,
          1475.144,
          2305.712,
          6339.5576,
          5402.254,
          5888.275,
          2148.852,
          1600.55,
          1397.8724,
          1278.954,
          537.632,
          3036.547,
          844.4580000000001,
          2754.216,
          3202.1620000000003,
          3651.8585000000003,
          550.644,
          5690.054999999999,
          3241.898,
          2830.6279999999997,
          2370.3136,
          1136.592,
          2900.026,
          156.76,
          2171.599,
          2839.2272,
          4531.646,
          2973.094,
          2332.577,
          4655.897,
          1081.466,
          1711.692,
          3908.8028,
          1989.05,
          1155.202,
          3336.168,
          1174.618,
          269.542,
          3195.818,
          4932.872,
          2501.6879999999996,
          3356.398,
          3256.48,
          4282.176,
          1687.04,
          2650.557,
          797.832,
          4802.394,
          3318.486,
          1503.112,
          3272.2,
          1458.258,
          585.02,
          3539.322,
          1322.034,
          6345.103,
          4074.4719999999998,
          2139.79,
          1300.0315,
          1267.316,
          1050.636,
          2215.002,
          5480.723999999999,
          6528.034000000001,
          1762.213,
          2881.8128,
          1119.483,
          3341.587,
          1080.751,
          5271.628,
          344.08,
          1204.854,
          755.602,
          2846.705,
          3644.978,
          3236.314,
          4358.128,
          2767.219,
          944.6000000000001,
          1643.255,
          3071.126,
          1186.326,
          461.914,
          3484.92,
          1832.02,
          684.1709999999999,
          825.9499999999999,
          1219.53,
          3082.653,
          923.884,
          2162.174,
          2656.691,
          1303.478,
          124.28,
          2567.0099999999998,
          2339.598,
          933.704,
          228.99,
          1041.0420000000001,
          4588.436000000001,
          366.822,
          2199.366,
          3510.4579999999996,
          4657.924,
          2984.054,
          3418.742,
          3889.366,
          1383.144,
          4256.272,
          2271.284,
          6987.196,
          2456.638,
          3736.198,
          2523.266,
          2678.438,
          4046.746,
          79.75,
          3919.7760000000003,
          1398.382,
          1568.44,
          4716.288,
          1888.07,
          2224,
          2819.4669999999996,
          4172.8460000000005,
          1361.2440000000001,
          146.94080000000002,
          6497.27,
          3582.8199999999997,
          3078.624,
          1255.682,
          3163.628,
          6049.966,
          226.436,
          2189.019,
          4355.150000000001,
          2454.6220000000003,
          2163.3,
          2584.158,
          883.5319999999999,
          2533.1639999999998,
          785.628,
          3247.642,
          3690.284,
          218.668,
          358.1,
          4877.784,
          736.276,
          1990.314,
          1299.288,
          5248.787,
          886.52,
          744.574,
          5040.736,
          2872.63,
          4930.474,
          6491.026,
          1791.605,
          644.1188,
          2518.115,
          71.263,
          1058.108,
          2772.055,
          858.576,
          2152.352,
          385.43,
          695.442,
          1388.682,
          6760.8150000000005,
          2697.248,
          2279.5860000000002,
          955.124,
          1911.844,
          2371.448,
          1082.918,
          4198.332,
          6366.392,
          2240.58,
          1507.018,
          309.281,
          528.91,
          959.477,
          2256.3940000000002,
          4427.142,
          383.812,
          2709.632,
          3760.028,
          4760.434,
          4867.2,
          3747.668,
          2932.484,
          1214.956,
          1571.523,
          2203.7,
          3173.874,
          3159.1220000000003,
          1804.146,
          1733.443,
          303.948,
          864.947,
          7625.076000000001,
          2833.9260000000004,
          3254.949,
          1934.272,
          1090.838,
          1669.135,
          3635.594,
          1707.71,
          863.88,
          2201.686,
          1417.654,
          1131.0639999999999,
          2516.494,
          7721.714,
          1244.086,
          1519.506,
          3152.6150000000002,
          1569.464,
          908.821,
          2744.742,
          983.922,
          2120.954,
          3908.262,
          1146.05,
          1888.964,
          2243.5099999999998,
          1686.7312,
          3312.864,
          3100.612,
          5952.859,
          3918.9660000000003,
          5990.799,
          5016.488,
          2260.958,
          5620.186,
          453.538,
          4909.472,
          2617.272,
          2171.962,
          2280.58,
          88.472,
          3057.1,
          4642.088400000001,
          4416.5199999999995,
          50.188,
          4985.676,
          7663.126,
          4492.946,
          2095.064,
          2633.582,
          1469.45,
          3930.5089999999996,
          287.426,
          2295.332,
          318.239,
          1739.689,
          2741.2039999999997,
          1346.774,
          644.35,
          756.606,
          3653.399,
          5142.892,
          1879.306,
          2845.27,
          2988.674,
          1010.2560000000001,
          1008.1360000000001,
          329.876,
          2936.252,
          2238.061,
          3230.308,
          1259.04,
          5420.514,
          2453.284,
          1548.702,
          1428.231,
          2725.982,
          4432.138,
          1303.893,
          2426.067,
          2258.192,
          795.154,
          3805.714,
          2218.98,
          1581.9979999999998,
          3766.382,
          1204.91,
          1908.4532,
          1256.944,
          1758.3,
          3785.276,
          2350.188,
          1242.8329999999999,
          776.384,
          3061.543,
          16.739,
          2394.025,
          400.016,
          2456.1820000000002,
          1252.8,
          2203.7780000000002,
          2984.948,
          5503.093,
          6320.746,
          2302.368,
          1031.602,
          2722.843,
          2921.5,
          2071.9139999999998,
          742.082,
          162.232,
          1314.023,
          3794.0800000000004,
          2749.881,
          775.414,
          2477.946,
          922.487,
          1687.0269999999998,
          154.288,
          3983.6420000000003,
          5087.92,
          639.178,
          7443.6900000000005,
          3144.678,
          855.116,
          2890.139,
          1319.4498,
          1560.05,
          1734.574,
          5341.900000000001,
          5253.876,
          2254.285,
          4152.696,
          593.606,
          2564.906,
          1972.599,
          2461.404,
          2218.9900000000002,
          1821.742,
          4326.139,
          2893.455,
          2031.472,
          1869.58,
          1395.9379999999999,
          2673.29,
          572.048,
          1418.0900000000001,
          6459.344,
          2161.979,
          5529.62,
          3908.402,
          1228.698,
          2367.277,
          2575.863,
          2964.823,
          7234.014,
          2488.31,
          1567.52,
          3818.624,
          729.408,
          740.356,
          688.324,
          1456.95,
          1832.064,
          2770,
          2206.1279999999997,
          3086.907,
          1987.164,
          729.648,
          1220.09,
          1824.2340000000002,
          239.481,
          1405.402,
          4115.662,
          1467.152,
          7473.8282,
          2493.214,
          4893.043,
          1056.858,
          1840.178,
          2181.479,
          1278.639,
          6843.634,
          160.572,
          2876.046,
          3454.916,
          6108.338,
          2617.906,
          3832.314,
          4793.543,
          1686.9225,
          1008.1959999999999,
          2663.0860000000002,
          4715.466,
          528.546,
          2067.45,
          5633.316000000001,
          966.409,
          885.752,
          4272.93,
          2912.8940000000002,
          2786.632,
          1419.737,
          1137.616,
          3133.924,
          970.9420000000001,
          876.696,
          3309.15,
          2341.2960000000003,
          945.222,
          3621.3759999999997,
          1460.192,
          6234.91,
          1453.474,
          5979.0960000000005,
          98.35,
          3815.478,
          5153.084,
          2170.716,
          615.932,
          3302.2619999999997,
          3221.29,
          4159.7699999999995,
          22.328,
          7397.401,
          3279.746,
          3495.646,
          4767.3415,
          1348.02,
          6410.996,
          4624.572,
          4371.9580000000005,
          3729.7929999999997,
          3979.065,
          5992.536,
          1874.998,
          902.7280000000001,
          1254.64,
          2576.408,
          5226.21,
          4492.657,
          279.25600000000003,
          280.632,
          6121.114,
          763.5459999999999,
          3422.7859999999996,
          3336.535,
          3406.5809999999997,
          1884.798,
          3124.832,
          47.946,
          2180.718,
          3949.656,
          1341.036,
          1318.776,
          883.409,
          3053.012,
          5563.392,
          1860.418,
          3127.9592,
          2602.5755,
          1306.086,
          5440.319,
          1872.4360000000001,
          4282.94,
          3990.689,
          3233.481,
          4345.8859999999995,
          1324.028,
          3056.8070000000002,
          964.636,
          433.34000000000003,
          2595.364,
          4105.305,
          1271.0900000000001,
          1903.491,
          1085.078,
          1966.65,
          1019.044,
          2921.544,
          3625.329,
          1467.881,
          3589.296,
          816.1740000000001,
          1602.376,
          834.328,
          4737.486,
          1387.559,
          2797.668,
          1038.26,
          4266.812,
          1244.976,
          742.5580000000001,
          1434.5480000000002,
          3058.372,
          2074.661,
          2422.824,
          2942.772,
          1022.201,
          4234.0960000000005,
          2955.2259999999997,
          1094.6779999999999,
          3130.221,
          4454.0560000000005,
          5329.0048,
          1936.6399999999999,
          675.9419999999999,
          4.833,
          5371.09,
          974.7819999999999,
          2054.14,
          2243.274,
          2820.424,
          3368.094,
          4915.602,
          1427.0439999999999,
          439.5,
          5364.808,
          5278.826,
          1707.286,
          2005.596,
          847.944,
          846.01,
          427.372,
          2454.866,
          380.69,
          993.9019999999999,
          3360.526,
          1055.981,
          6134.0380000000005,
          2374.658,
          5454.35,
          6720.4439999999995,
          1493.944
         ]
        }
       ],
       "layout": {
        "coloraxis": {
         "colorbar": {
          "title": {
           "text": "Cluster"
          }
         },
         "colorscale": [
          [
           0,
           "violet"
          ],
          [
           0.5,
           "white"
          ],
          [
           1,
           "green"
          ]
         ]
        },
        "font": {
         "color": "white"
        },
        "height": 800,
        "legend": {
         "tracegroupgap": 0
        },
        "paper_bgcolor": "black",
        "plot_bgcolor": "black",
        "scene": {
         "domain": {
          "x": [
           0,
           1
          ],
          "y": [
           0,
           1
          ]
         },
         "xaxis": {
          "backgroundcolor": "black",
          "title": {
           "text": "Recency"
          }
         },
         "yaxis": {
          "backgroundcolor": "black",
          "title": {
           "text": "Frequency"
          }
         },
         "zaxis": {
          "backgroundcolor": "black",
          "title": {
           "text": "Monetary"
          }
         }
        },
        "template": {
         "data": {
          "bar": [
           {
            "error_x": {
             "color": "#2a3f5f"
            },
            "error_y": {
             "color": "#2a3f5f"
            },
            "marker": {
             "line": {
              "color": "#E5ECF6",
              "width": 0.5
             },
             "pattern": {
              "fillmode": "overlay",
              "size": 10,
              "solidity": 0.2
             }
            },
            "type": "bar"
           }
          ],
          "barpolar": [
           {
            "marker": {
             "line": {
              "color": "#E5ECF6",
              "width": 0.5
             },
             "pattern": {
              "fillmode": "overlay",
              "size": 10,
              "solidity": 0.2
             }
            },
            "type": "barpolar"
           }
          ],
          "carpet": [
           {
            "aaxis": {
             "endlinecolor": "#2a3f5f",
             "gridcolor": "white",
             "linecolor": "white",
             "minorgridcolor": "white",
             "startlinecolor": "#2a3f5f"
            },
            "baxis": {
             "endlinecolor": "#2a3f5f",
             "gridcolor": "white",
             "linecolor": "white",
             "minorgridcolor": "white",
             "startlinecolor": "#2a3f5f"
            },
            "type": "carpet"
           }
          ],
          "choropleth": [
           {
            "colorbar": {
             "outlinewidth": 0,
             "ticks": ""
            },
            "type": "choropleth"
           }
          ],
          "contour": [
           {
            "colorbar": {
             "outlinewidth": 0,
             "ticks": ""
            },
            "colorscale": [
             [
              0,
              "#0d0887"
             ],
             [
              0.1111111111111111,
              "#46039f"
             ],
             [
              0.2222222222222222,
              "#7201a8"
             ],
             [
              0.3333333333333333,
              "#9c179e"
             ],
             [
              0.4444444444444444,
              "#bd3786"
             ],
             [
              0.5555555555555556,
              "#d8576b"
             ],
             [
              0.6666666666666666,
              "#ed7953"
             ],
             [
              0.7777777777777778,
              "#fb9f3a"
             ],
             [
              0.8888888888888888,
              "#fdca26"
             ],
             [
              1,
              "#f0f921"
             ]
            ],
            "type": "contour"
           }
          ],
          "contourcarpet": [
           {
            "colorbar": {
             "outlinewidth": 0,
             "ticks": ""
            },
            "type": "contourcarpet"
           }
          ],
          "heatmap": [
           {
            "colorbar": {
             "outlinewidth": 0,
             "ticks": ""
            },
            "colorscale": [
             [
              0,
              "#0d0887"
             ],
             [
              0.1111111111111111,
              "#46039f"
             ],
             [
              0.2222222222222222,
              "#7201a8"
             ],
             [
              0.3333333333333333,
              "#9c179e"
             ],
             [
              0.4444444444444444,
              "#bd3786"
             ],
             [
              0.5555555555555556,
              "#d8576b"
             ],
             [
              0.6666666666666666,
              "#ed7953"
             ],
             [
              0.7777777777777778,
              "#fb9f3a"
             ],
             [
              0.8888888888888888,
              "#fdca26"
             ],
             [
              1,
              "#f0f921"
             ]
            ],
            "type": "heatmap"
           }
          ],
          "heatmapgl": [
           {
            "colorbar": {
             "outlinewidth": 0,
             "ticks": ""
            },
            "colorscale": [
             [
              0,
              "#0d0887"
             ],
             [
              0.1111111111111111,
              "#46039f"
             ],
             [
              0.2222222222222222,
              "#7201a8"
             ],
             [
              0.3333333333333333,
              "#9c179e"
             ],
             [
              0.4444444444444444,
              "#bd3786"
             ],
             [
              0.5555555555555556,
              "#d8576b"
             ],
             [
              0.6666666666666666,
              "#ed7953"
             ],
             [
              0.7777777777777778,
              "#fb9f3a"
             ],
             [
              0.8888888888888888,
              "#fdca26"
             ],
             [
              1,
              "#f0f921"
             ]
            ],
            "type": "heatmapgl"
           }
          ],
          "histogram": [
           {
            "marker": {
             "pattern": {
              "fillmode": "overlay",
              "size": 10,
              "solidity": 0.2
             }
            },
            "type": "histogram"
           }
          ],
          "histogram2d": [
           {
            "colorbar": {
             "outlinewidth": 0,
             "ticks": ""
            },
            "colorscale": [
             [
              0,
              "#0d0887"
             ],
             [
              0.1111111111111111,
              "#46039f"
             ],
             [
              0.2222222222222222,
              "#7201a8"
             ],
             [
              0.3333333333333333,
              "#9c179e"
             ],
             [
              0.4444444444444444,
              "#bd3786"
             ],
             [
              0.5555555555555556,
              "#d8576b"
             ],
             [
              0.6666666666666666,
              "#ed7953"
             ],
             [
              0.7777777777777778,
              "#fb9f3a"
             ],
             [
              0.8888888888888888,
              "#fdca26"
             ],
             [
              1,
              "#f0f921"
             ]
            ],
            "type": "histogram2d"
           }
          ],
          "histogram2dcontour": [
           {
            "colorbar": {
             "outlinewidth": 0,
             "ticks": ""
            },
            "colorscale": [
             [
              0,
              "#0d0887"
             ],
             [
              0.1111111111111111,
              "#46039f"
             ],
             [
              0.2222222222222222,
              "#7201a8"
             ],
             [
              0.3333333333333333,
              "#9c179e"
             ],
             [
              0.4444444444444444,
              "#bd3786"
             ],
             [
              0.5555555555555556,
              "#d8576b"
             ],
             [
              0.6666666666666666,
              "#ed7953"
             ],
             [
              0.7777777777777778,
              "#fb9f3a"
             ],
             [
              0.8888888888888888,
              "#fdca26"
             ],
             [
              1,
              "#f0f921"
             ]
            ],
            "type": "histogram2dcontour"
           }
          ],
          "mesh3d": [
           {
            "colorbar": {
             "outlinewidth": 0,
             "ticks": ""
            },
            "type": "mesh3d"
           }
          ],
          "parcoords": [
           {
            "line": {
             "colorbar": {
              "outlinewidth": 0,
              "ticks": ""
             }
            },
            "type": "parcoords"
           }
          ],
          "pie": [
           {
            "automargin": true,
            "type": "pie"
           }
          ],
          "scatter": [
           {
            "fillpattern": {
             "fillmode": "overlay",
             "size": 10,
             "solidity": 0.2
            },
            "type": "scatter"
           }
          ],
          "scatter3d": [
           {
            "line": {
             "colorbar": {
              "outlinewidth": 0,
              "ticks": ""
             }
            },
            "marker": {
             "colorbar": {
              "outlinewidth": 0,
              "ticks": ""
             }
            },
            "type": "scatter3d"
           }
          ],
          "scattercarpet": [
           {
            "marker": {
             "colorbar": {
              "outlinewidth": 0,
              "ticks": ""
             }
            },
            "type": "scattercarpet"
           }
          ],
          "scattergeo": [
           {
            "marker": {
             "colorbar": {
              "outlinewidth": 0,
              "ticks": ""
             }
            },
            "type": "scattergeo"
           }
          ],
          "scattergl": [
           {
            "marker": {
             "colorbar": {
              "outlinewidth": 0,
              "ticks": ""
             }
            },
            "type": "scattergl"
           }
          ],
          "scattermapbox": [
           {
            "marker": {
             "colorbar": {
              "outlinewidth": 0,
              "ticks": ""
             }
            },
            "type": "scattermapbox"
           }
          ],
          "scatterpolar": [
           {
            "marker": {
             "colorbar": {
              "outlinewidth": 0,
              "ticks": ""
             }
            },
            "type": "scatterpolar"
           }
          ],
          "scatterpolargl": [
           {
            "marker": {
             "colorbar": {
              "outlinewidth": 0,
              "ticks": ""
             }
            },
            "type": "scatterpolargl"
           }
          ],
          "scatterternary": [
           {
            "marker": {
             "colorbar": {
              "outlinewidth": 0,
              "ticks": ""
             }
            },
            "type": "scatterternary"
           }
          ],
          "surface": [
           {
            "colorbar": {
             "outlinewidth": 0,
             "ticks": ""
            },
            "colorscale": [
             [
              0,
              "#0d0887"
             ],
             [
              0.1111111111111111,
              "#46039f"
             ],
             [
              0.2222222222222222,
              "#7201a8"
             ],
             [
              0.3333333333333333,
              "#9c179e"
             ],
             [
              0.4444444444444444,
              "#bd3786"
             ],
             [
              0.5555555555555556,
              "#d8576b"
             ],
             [
              0.6666666666666666,
              "#ed7953"
             ],
             [
              0.7777777777777778,
              "#fb9f3a"
             ],
             [
              0.8888888888888888,
              "#fdca26"
             ],
             [
              1,
              "#f0f921"
             ]
            ],
            "type": "surface"
           }
          ],
          "table": [
           {
            "cells": {
             "fill": {
              "color": "#EBF0F8"
             },
             "line": {
              "color": "white"
             }
            },
            "header": {
             "fill": {
              "color": "#C8D4E3"
             },
             "line": {
              "color": "white"
             }
            },
            "type": "table"
           }
          ]
         },
         "layout": {
          "annotationdefaults": {
           "arrowcolor": "#2a3f5f",
           "arrowhead": 0,
           "arrowwidth": 1
          },
          "autotypenumbers": "strict",
          "coloraxis": {
           "colorbar": {
            "outlinewidth": 0,
            "ticks": ""
           }
          },
          "colorscale": {
           "diverging": [
            [
             0,
             "#8e0152"
            ],
            [
             0.1,
             "#c51b7d"
            ],
            [
             0.2,
             "#de77ae"
            ],
            [
             0.3,
             "#f1b6da"
            ],
            [
             0.4,
             "#fde0ef"
            ],
            [
             0.5,
             "#f7f7f7"
            ],
            [
             0.6,
             "#e6f5d0"
            ],
            [
             0.7,
             "#b8e186"
            ],
            [
             0.8,
             "#7fbc41"
            ],
            [
             0.9,
             "#4d9221"
            ],
            [
             1,
             "#276419"
            ]
           ],
           "sequential": [
            [
             0,
             "#0d0887"
            ],
            [
             0.1111111111111111,
             "#46039f"
            ],
            [
             0.2222222222222222,
             "#7201a8"
            ],
            [
             0.3333333333333333,
             "#9c179e"
            ],
            [
             0.4444444444444444,
             "#bd3786"
            ],
            [
             0.5555555555555556,
             "#d8576b"
            ],
            [
             0.6666666666666666,
             "#ed7953"
            ],
            [
             0.7777777777777778,
             "#fb9f3a"
            ],
            [
             0.8888888888888888,
             "#fdca26"
            ],
            [
             1,
             "#f0f921"
            ]
           ],
           "sequentialminus": [
            [
             0,
             "#0d0887"
            ],
            [
             0.1111111111111111,
             "#46039f"
            ],
            [
             0.2222222222222222,
             "#7201a8"
            ],
            [
             0.3333333333333333,
             "#9c179e"
            ],
            [
             0.4444444444444444,
             "#bd3786"
            ],
            [
             0.5555555555555556,
             "#d8576b"
            ],
            [
             0.6666666666666666,
             "#ed7953"
            ],
            [
             0.7777777777777778,
             "#fb9f3a"
            ],
            [
             0.8888888888888888,
             "#fdca26"
            ],
            [
             1,
             "#f0f921"
            ]
           ]
          },
          "colorway": [
           "#636efa",
           "#EF553B",
           "#00cc96",
           "#ab63fa",
           "#FFA15A",
           "#19d3f3",
           "#FF6692",
           "#B6E880",
           "#FF97FF",
           "#FECB52"
          ],
          "font": {
           "color": "#2a3f5f"
          },
          "geo": {
           "bgcolor": "white",
           "lakecolor": "white",
           "landcolor": "#E5ECF6",
           "showlakes": true,
           "showland": true,
           "subunitcolor": "white"
          },
          "hoverlabel": {
           "align": "left"
          },
          "hovermode": "closest",
          "mapbox": {
           "style": "light"
          },
          "paper_bgcolor": "white",
          "plot_bgcolor": "#E5ECF6",
          "polar": {
           "angularaxis": {
            "gridcolor": "white",
            "linecolor": "white",
            "ticks": ""
           },
           "bgcolor": "#E5ECF6",
           "radialaxis": {
            "gridcolor": "white",
            "linecolor": "white",
            "ticks": ""
           }
          },
          "scene": {
           "xaxis": {
            "backgroundcolor": "#E5ECF6",
            "gridcolor": "white",
            "gridwidth": 2,
            "linecolor": "white",
            "showbackground": true,
            "ticks": "",
            "zerolinecolor": "white"
           },
           "yaxis": {
            "backgroundcolor": "#E5ECF6",
            "gridcolor": "white",
            "gridwidth": 2,
            "linecolor": "white",
            "showbackground": true,
            "ticks": "",
            "zerolinecolor": "white"
           },
           "zaxis": {
            "backgroundcolor": "#E5ECF6",
            "gridcolor": "white",
            "gridwidth": 2,
            "linecolor": "white",
            "showbackground": true,
            "ticks": "",
            "zerolinecolor": "white"
           }
          },
          "shapedefaults": {
           "line": {
            "color": "#2a3f5f"
           }
          },
          "ternary": {
           "aaxis": {
            "gridcolor": "white",
            "linecolor": "white",
            "ticks": ""
           },
           "baxis": {
            "gridcolor": "white",
            "linecolor": "white",
            "ticks": ""
           },
           "bgcolor": "#E5ECF6",
           "caxis": {
            "gridcolor": "white",
            "linecolor": "white",
            "ticks": ""
           }
          },
          "title": {
           "x": 0.05
          },
          "xaxis": {
           "automargin": true,
           "gridcolor": "white",
           "linecolor": "white",
           "ticks": "",
           "title": {
            "standoff": 15
           },
           "zerolinecolor": "white",
           "zerolinewidth": 2
          },
          "yaxis": {
           "automargin": true,
           "gridcolor": "white",
           "linecolor": "white",
           "ticks": "",
           "title": {
            "standoff": 15
           },
           "zerolinecolor": "white",
           "zerolinewidth": 2
          }
         }
        },
        "title": {
         "text": "3D Scatter Plot of Recency Frequency Monetary"
        },
        "width": 1200
       }
      }
     },
     "metadata": {},
     "output_type": "display_data"
    }
   ],
   "source": [
    "# 3D Scatter Plot using Plotly Express for k=2 with customizations\n",
    "fig = px.scatter_3d(rfm_table_no_outliers, x='Recency', y='Frequency', z='Monetary', color='Cluster',\n",
    "                    title=f'3D Scatter Plot of Recency Frequency Monetary',\n",
    "                    hover_data=['Customer ID', 'Recency', 'Frequency', 'Monetary'],\n",
    "                    color_continuous_scale=['violet', 'white', 'green'])\n",
    "\n",
    "# Update layout for background color and marker properties\n",
    "fig.update_layout(\n",
    "    scene=dict(\n",
    "        xaxis=dict(backgroundcolor=\"black\"),\n",
    "        yaxis=dict(backgroundcolor=\"black\"),\n",
    "        zaxis=dict(backgroundcolor=\"black\"),\n",
    "    ),\n",
    "    paper_bgcolor=\"black\",\n",
    "    plot_bgcolor=\"black\",\n",
    "    font=dict(color='white'),\n",
    "    width=1200,  # Increase width\n",
    "    height=800  # Increase height\n",
    ")\n",
    "\n",
    "# Update marker properties\n",
    "fig.update_traces(marker=dict(size=5, opacity=0.6))\n",
    "\n",
    "# Show the plot\n",
    "fig.show()"
   ]
  }
 ],
 "metadata": {
  "kernelspec": {
   "display_name": "base",
   "language": "python",
   "name": "python3"
  },
  "language_info": {
   "codemirror_mode": {
    "name": "ipython",
    "version": 3
   },
   "file_extension": ".py",
   "mimetype": "text/x-python",
   "name": "python",
   "nbconvert_exporter": "python",
   "pygments_lexer": "ipython3",
   "version": "3.11.5"
  }
 },
 "nbformat": 4,
 "nbformat_minor": 2
}
